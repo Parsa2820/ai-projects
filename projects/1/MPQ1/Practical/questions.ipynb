{
 "cells": [
  {
   "cell_type": "markdown",
   "metadata": {},
   "source": [
    "<div align=center>\n",
    "\t\t\n",
    "<p></p>\n",
    "<p></p>\n",
    "<font size=5>\n",
    "In the Name of God\n",
    "<font/>\n",
    "<p></p>\n",
    " <br/>\n",
    "    <br/>\n",
    "    <br/>\n",
    "<font color=#FF7500>\n",
    "Sharif University of Technology - Departmenet of Computer Engineering\n",
    "</font>\n",
    "<p></p>\n",
    "<font color=blue>\n",
    "Artifical Intelligence - Dr. Mohammad Hossein Rohban\n",
    "</font>\n",
    "<br/>\n",
    "<br/>\n",
    "Fall 2021\n",
    "\n",
    "</div>\n",
    "\n",
    "<hr/>\n",
    "\t\t<div align=center>\n",
    "\t\t    <font color=red size=6>\n",
    "\t\t\t    <br />\n",
    "Practical Assignment 1\n",
    "            \t<br/>\n",
    "\t\t\t</font>\n",
    "    <br/>\n",
    "    <br/>\n",
    "<font size=4>\n",
    "\t\t\t<br/><br/>\n",
    "Deadline:  Aban 6th\n",
    "                <br/><b>\n",
    "              Cheating is Strongly Prohibited\n",
    "                </b><br/><br/>\n",
    "                <font color=red>\n",
    "Please run all the cells.\n",
    "     </font>\n",
    "</font>\n",
    "                <br/>\n",
    "    </div>"
   ]
  },
  {
   "cell_type": "markdown",
   "metadata": {},
   "source": [
    "# Personal Data"
   ]
  },
  {
   "cell_type": "code",
   "execution_count": 1,
   "metadata": {
    "collectable": true,
    "execution": {
     "iopub.execute_input": "2021-10-01T16:01:36.762477Z",
     "iopub.status.busy": "2021-10-01T16:01:36.762155Z",
     "iopub.status.idle": "2021-10-01T16:01:36.764025Z",
     "shell.execute_reply": "2021-10-01T16:01:36.763754Z"
    }
   },
   "outputs": [],
   "source": [
    "# Set your student number\n",
    "student_number = 98102284\n",
    "Name = 'Parsa'\n",
    "Last_Name = 'Mohammadian'"
   ]
  },
  {
   "cell_type": "markdown",
   "metadata": {},
   "source": [
    "# Rules\n",
    "- You are not allowed to add or remove cells. You **must use the provided space to write your code**. If you don't follow this rule, **your Practical Assignment won't be graded**. \n",
    "- There is one cell for your custom functions (if you need any) at the beginning of each question. Please note that this jupyter file might be broken down into 3 or 4 jupyter notebooks for easier grading, so you **must write your custom functions in the correct cell**.\n",
    "- By running the cell below, you can see if your jupyter file is accepted or not. This cell will also **generate a python file which you'll have to upload to Quera** (as well as your jupyter file). The python file will later be validated and if the code in both files doesn't match, **your Practical Assignment won't be graded**.\n",
    "- This assignment is due Aban 6th 23:59:59. you can use up to 7 grace days for this assignment and the hard deadline is Aban 13th 23:59:59."
   ]
  },
  {
   "cell_type": "code",
   "execution_count": 5,
   "metadata": {},
   "outputs": [
    {
     "name": "stdout",
     "output_type": "stream",
     "text": [
      "your jupyter file will be graded\n"
     ]
    }
   ],
   "source": [
    "# remember to save your jupyter file before running this script\n",
    "from Helper_codes.validator import *\n",
    "\n",
    "python_code = extract_python(\"./questions.ipynb\")\n",
    "with open(f'python_code_{student_number}.py', 'w') as file:\n",
    "    file.write(python_code)"
   ]
  },
  {
   "cell_type": "markdown",
   "metadata": {},
   "source": [
    "# Q1 (20 Points)"
   ]
  },
  {
   "cell_type": "markdown",
   "metadata": {},
   "source": [
    "<font size=4>\n",
    "Author: Amin Meghrazi\n",
    "\t\t\t<br/>\n",
    "                <font color=red>\n",
    "Please run all the cells.\n",
    "     </font>\n",
    "</font>\n",
    "                <br/>\n",
    "    </div>"
   ]
  },
  {
   "cell_type": "code",
   "execution_count": null,
   "metadata": {
    "collectable": true
   },
   "outputs": [],
   "source": [
    "# place for your custom functions for Q1 here"
   ]
  },
  {
   "cell_type": "markdown",
   "metadata": {},
   "source": [
    "Amsterdam is a city with a large variety of flowers with several florists connected by bidirectional roads, each of which has a travel time. Each of the floristry may sell one or more kinds of flowers. Frank and Gorgi are brothers, and their mother is under a spell that will be broken by a bouquet of **k** different flower that **k** is the number of all types of flowers which are available in florists Amsterdam."
   ]
  },
  {
   "cell_type": "markdown",
   "metadata": {},
   "source": [
    "At first, Frank and Gorgi are at floristry 1 (each of the florists is numbered consecutively from 1 to **n**), and according to the situation, they should collect all types of flowers, and in order to save time, they will divide the list of flowers between them. Determine the total travel time for the boys to purchase all types of flowers, finally meeting at floristry **n**. Their paths may intersect, they may backtrack through floristry **n**, and one may arrive at a different time than the other. The minimum time to determine is when both have arrived at the destination."
   ]
  },
  {
   "cell_type": "markdown",
   "metadata": {},
   "source": [
    "For example,  there are **n = 5** florists selling **k = 3** types of flowers. The following graph shows a possible layout of the florists connected by **m = 5** paths. Each of nodes is labeled **floristry number / flower types offered / boy(s) that visit(s)**. Here **F** and **G** represent Frank and Gorgi, respectively. In this example, both of boys take the same path, i.e. **1 &#8594; 3 &#8594; 5** and arrive at time **15 + 5 = 20** having purchased all three types of flowers. Neither of them visits floristry **2** or **4**. <br/>\n",
    "<img src=\"Images/Blank_diagram.png\" width=\"400\"/>"
   ]
  },
  {
   "cell_type": "markdown",
   "metadata": {},
   "source": [
    "## Input Format"
   ]
  },
  {
   "cell_type": "markdown",
   "metadata": {},
   "source": [
    "The first line contains 3 space-seperated integers: <br/>\n",
    "**n**(the number of floristries in Amsterdam), **m**(the number of roads), and **k**(the number of flower types sold in Amsterdam), respectively.<br/>\n",
    "Each line **i** of the **n** subsequent lines ($1 \\leq i \\leq n$) describes a floristry as a line of space separated integers. Each line takes the following form: <br/>\n",
    "   * The first integer, $t_i$, denotes the number of flower types that are sold at floristry **i**.\n",
    "   * Each of the $t_i$ subsequent integers on the line describes a type of flower sold at floristry **i**, denoted by $S_{ij}$, where $1 \\leq j \\leq t_i$\n",
    "\n",
    "Each line **z** of the **m** subsequent lines ($1 \\leq j \\leq m$) contains 3 space-separated integers that describe a road. The first two integers, $u_z$ and $v_z$, describe the two florists it connects. The third integer, $w_z$, denotes the amount of time it takes to travel the road."
   ]
  },
  {
   "cell_type": "markdown",
   "metadata": {},
   "source": [
    "## Constraints\n",
    "\n",
    "* $ 2 \\leq n \\leq 10^3 $\n",
    "* $ 1 \\leq m \\leq 2 \\times 10^3 $\n",
    "* $ 1 \\leq k \\leq 10 $\n",
    "* $ 0 \\leq t_i \\leq k $\n",
    "* $ 1 \\leq S_{ij} \\leq k $\n",
    "* All $S_{ij}$ are different for every fixed *i*\n",
    "* $ 1 \\leq u_z , v_z \\leq n $\n",
    "* $ 1 \\leq w_z \\leq 10^4 $\n",
    "* Each road connects 2 distinct florists.\n",
    "* Each pair of florists is directly connected by no more than 1 road.\n",
    "* It's possible to get to any floristry from any other florist.\n",
    "* Each type of flower is always sold by at least one florist."
   ]
  },
  {
   "cell_type": "markdown",
   "metadata": {},
   "source": [
    "## Output Format"
   ]
  },
  {
   "cell_type": "markdown",
   "metadata": {},
   "source": [
    "Print the minimum amount of time it'll take for the boys to collectively purchase all **k** types of flowers and meet up at florist **n**."
   ]
  },
  {
   "cell_type": "markdown",
   "metadata": {},
   "source": [
    "## Sample Input"
   ]
  },
  {
   "cell_type": "markdown",
   "metadata": {},
   "source": [
    "5 5 5 <br/>\n",
    "1 1 <br/>\n",
    "1 2 <br/>\n",
    "1 3 <br/>\n",
    "1 4 <br/>\n",
    "1 5 <br/>\n",
    "1 2 10 <br/>\n",
    "1 3 10 <br/>\n",
    "2 4 10 <br/>\n",
    "3 5 10 <br/>\n",
    "4 5 10"
   ]
  },
  {
   "cell_type": "markdown",
   "metadata": {},
   "source": [
    "## Sample Output"
   ]
  },
  {
   "cell_type": "markdown",
   "metadata": {},
   "source": [
    "30"
   ]
  },
  {
   "cell_type": "markdown",
   "metadata": {},
   "source": [
    "## Explanation"
   ]
  },
  {
   "cell_type": "markdown",
   "metadata": {},
   "source": [
    "<img src=\"Images/diagram2.png\" width=\"400\"/>\n",
    "<br/>\n",
    "Frank can travel $1 \\rightarrow 2 \\rightarrow 4 \\rightarrow 5$ and buy flower at all of the florists on his way. <br/>\n",
    "Gorgi can travel $1 \\rightarrow 3 \\rightarrow 5$, and buy flower from the third florists only."
   ]
  },
  {
   "cell_type": "markdown",
   "metadata": {},
   "source": [
    "Now, You should implement the function **solve**.\n",
    "<br/> At last, Pay Attention that you have a **time limit of 9s** for each test that if your code exceeds that limit for any of these tests, you'll get **FAIL** for that test."
   ]
  },
  {
   "cell_type": "code",
   "execution_count": 14,
   "metadata": {
    "collectable": true
   },
   "outputs": [
    {
     "name": "stdout",
     "output_type": "stream",
     "text": [
      "defaultdict(<class 'list'>, {1: [(2, 10), (3, 10)], 2: [(4, 10)], 3: [(5, 10)], 4: [(5, 10)]})\n"
     ]
    }
   ],
   "source": [
    "from collections import defaultdict\n",
    "import itertools\n",
    "\n",
    "\n",
    "def solve(N, M, K, NUMS, roads):\n",
    "    ###################################################################\n",
    "    # (Point: determined by number of passed test)                    #\n",
    "    # This function get input N, M, K, NUMS and roads                 #\n",
    "    # which N is number of floristries,                               #\n",
    "    # and M is number of roads,                                       #\n",
    "    # and K is number of flower types,                                #\n",
    "    # and NUMS are inventory of floristries,                          #\n",
    "    # and roads are the roads between two floristries.                #\n",
    "    # This function returns a number                                  #\n",
    "    # which represents minimum amount of time it'll take for the boys,#\n",
    "    # to collectively purchase all **k** types of flowers             #\n",
    "    # and meet up at floristry n                                      #\n",
    "    ###################################################################\n",
    "    neighbours = find_neighbours(roads)\n",
    "    print(neighbours)\n",
    "    double_backtrack(N, K, NUMS, neighbours, (1, 1), (0, 0), set())\n",
    "\n",
    "\n",
    "def find_neighbours(roads):\n",
    "    neighbours = defaultdict(list)\n",
    "    for road in roads:\n",
    "        neighbours[road[0]].append(tuple(road[1:]))\n",
    "    return neighbours\n",
    "\n",
    "MIN_COST = float('inf')\n",
    "\n",
    "def double_backtrack(N, K, NUMS, neighbours, currents, costs, collected_flower_types):\n",
    "    current_collected_flower_types = collected_flower_types.copy()\n",
    "    current_collected_flower_types.add(NUMS[currents[0]][1:])\n",
    "    current_collected_flower_types.add(NUMS[currents[1]][1:])\n",
    "    if currents == (N, N) and len(current_collected_flower_types) == K:\n",
    "        global MIN_COST\n",
    "        if costs[0] + costs[1] < MIN_COST:\n",
    "            MIN_COST = costs[0] + costs[1]\n",
    "    all_combinations = itertools.product(\n",
    "        neighbours[currents[0]], neighbours[currents[1]])\n",
    "    for neighbour1, neighbour2 in all_combinations:\n",
    "        neighbour1_node, cost1 = neighbour1\n",
    "        neighbour2_node, cost2 = neighbour2\n",
    "        double_backtrack(N, K, NUMS, neighbours, (neighbour1_node, neighbour2_node),\n",
    "                         (costs[0]+cost1, costs[1]+cost2), current_collected_flower_types)\n",
    "\n",
    "\n",
    "def test():\n",
    "    solve(5, 5, 5, [[1, 1], [1, 2], [1, 3], [1, 4], [1, 5]], [\n",
    "          [1, 2, 10], [1, 3, 10], [2, 4, 10], [3, 5, 10], [4, 5, 10]])\n",
    "\n",
    "\n",
    "test()\n"
   ]
  },
  {
   "cell_type": "markdown",
   "metadata": {},
   "source": [
    "## Grading"
   ]
  },
  {
   "cell_type": "markdown",
   "metadata": {},
   "source": [
    "By Running the below cell, you'd test your code with 10 test cases we gave to you, But be aware that there are more tests that will determine your grade in addition to these ten tests."
   ]
  },
  {
   "cell_type": "code",
   "execution_count": 3,
   "metadata": {},
   "outputs": [
    {
     "name": "stdout",
     "output_type": "stream",
     "text": [
      "Test 1\n",
      "5 5 5 [[1, 1], [1, 2], [1, 3], [1, 4], [1, 5]] [[1, 2, 10], [1, 3, 10], [2, 4, 10], [3, 5, 10], [4, 5, 10]]\n",
      "FAIL! your minimum time:  None True answer:  30 . Time consumed:  0.0 s\n",
      "Test 2\n",
      "6 10 3 [[2, 1, 2], [1, 3], [0], [2, 1, 3], [1, 2], [1, 3]] [[1, 2, 572], [4, 2, 913], [2, 6, 220], [1, 3, 579], [2, 3, 808], [5, 3, 298], [6, 1, 927], [4, 5, 171], [1, 5, 671], [2, 5, 463]]\n",
      "FAIL! your minimum time:  None True answer:  792 . Time consumed:  0.000997781753540039 s\n",
      "Test 3\n",
      "6 5 4 [[1, 2], [1, 2], [1, 1], [2, 3, 4], [2, 3, 4], [1, 4]] [[5, 4, 646], [4, 1, 997], [2, 1, 881], [2, 6, 114], [3, 1, 46]]\n",
      "FAIL! your minimum time:  None True answer:  2989 . Time consumed:  0.0 s\n",
      "Test 4\n",
      "8 20 2 [[0], [1, 1], [0], [1, 1], [0], [0], [0], [2, 1, 2]] [[3, 2, 762], [7, 4, 727], [8, 7, 322], [8, 1, 207], [1, 5, 687], [2, 6, 556], [1, 6, 103], [6, 8, 237], [3, 6, 777], [5, 6, 698], [3, 7, 584], [6, 4, 25], [2, 5, 734], [3, 5, 667], [7, 2, 208], [7, 5, 669], [4, 8, 775], [8, 3, 229], [1, 2, 462], [4, 2, 562]]\n",
      "FAIL! your minimum time:  None True answer:  207 . Time consumed:  0.0 s\n",
      "Test 5\n",
      "8 9 5 [[3, 2, 4, 5], [0], [2, 1, 2], [0], [0], [2, 3, 4], [1, 5], [1, 1]] [[7, 4, 150], [3, 6, 166], [7, 1, 602], [1, 3, 932], [4, 3, 959], [1, 5, 269], [4, 1, 644], [2, 1, 745], [8, 5, 834]]\n",
      "FAIL! your minimum time:  None True answer:  3299 . Time consumed:  0.0 s\n",
      "Test 6\n",
      "9 10 1 [[1, 1], [1, 1], [0], [0], [0], [1, 1], [0], [1, 1], [0]] [[2, 3, 468], [7, 4, 209], [1, 6, 851], [8, 1, 994], [2, 9, 839], [4, 2, 652], [2, 5, 227], [8, 4, 653], [1, 2, 732], [5, 8, 910]]\n",
      "FAIL! your minimum time:  None True answer:  1571 . Time consumed:  0.0 s\n",
      "Test 7\n",
      "50 100 7 [[0], [1, 3], [3, 4, 5, 7], [0], [0], [0], [0], [0], [1, 4], [2, 3, 5], [1, 3], [0], [0], [0], [2, 3, 4], [0], [0], [0], [1, 3], [0], [0], [0], [1, 5], [1, 3], [1, 3], [0], [1, 1], [1, 5], [0], [1, 3], [1, 1], [2, 2, 6], [0], [1, 5], [0], [0], [0], [0], [1, 4], [1, 7], [0], [1, 5], [0], [0], [1, 3], [0], [0], [0], [0], [1, 4]] [[34, 42, 44], [20, 15, 1000], [44, 31, 375], [30, 14, 504], [13, 6, 734], [39, 45, 968], [9, 20, 497], [47, 37, 568], [17, 41, 916], [15, 8, 361], [44, 25, 535], [45, 24, 424], [36, 26, 396], [29, 25, 916], [24, 32, 156], [33, 9, 591], [39, 37, 779], [5, 30, 482], [36, 7, 198], [49, 1, 169], [21, 6, 452], [12, 2, 529], [1, 14, 31], [29, 31, 400], [12, 22, 435], [35, 10, 972], [39, 9, 883], [8, 13, 75], [14, 13, 346], [43, 34, 21], [3, 2, 262], [14, 15, 30], [23, 9, 239], [48, 28, 275], [31, 34, 867], [10, 5, 78], [37, 46, 553], [16, 39, 258], [15, 25, 410], [10, 17, 124], [31, 45, 429], [42, 28, 837], [2, 1, 349], [3, 30, 317], [2, 24, 688], [32, 36, 870], [14, 38, 270], [21, 26, 110], [27, 15, 668], [9, 6, 966], [45, 20, 316], [9, 11, 207], [27, 10, 268], [3, 43, 949], [26, 8, 550], [46, 47, 283], [26, 40, 874], [23, 2, 356], [43, 18, 365], [34, 20, 269], [4, 19, 590], [35, 17, 894], [32, 21, 314], [47, 17, 816], [45, 11, 176], [36, 45, 413], [16, 10, 963], [28, 1, 528], [7, 4, 687], [49, 5, 801], [15, 24, 121], [8, 5, 464], [18, 2, 713], [35, 1, 939], [5, 4, 755], [48, 50, 251], [33, 14, 517], [1, 22, 666], [12, 11, 97], [30, 11, 7], [31, 43, 904], [43, 22, 660], [31, 17, 976], [28, 38, 219], [4, 2, 972], [27, 9, 754], [6, 5, 351], [16, 38, 952], [36, 46, 225], [40, 8, 243], [35, 32, 502], [46, 14, 181], [1, 4, 723], [30, 21, 854], [26, 32, 802], [19, 37, 906], [46, 26, 902], [49, 21, 173], [7, 28, 819], [22, 41, 526]]\n",
      "FAIL! your minimum time:  None True answer:  2868 . Time consumed:  0.0 s\n",
      "Test 8\n",
      "100 100 10 [[2, 6, 7], [1, 5], [1, 8], [0], [0], [0], [0], [1, 4], [1, 2], [1, 9], [0], [1, 7], [1, 2], [0], [0], [0], [2, 1, 9], [1, 6], [0], [1, 5], [1, 9], [0], [1, 4], [0], [0], [3, 3, 6, 9], [1, 4], [0], [0], [1, 10], [2, 5, 7], [2, 5, 6], [1, 6], [2, 1, 6], [0], [0], [1, 2], [4, 1, 4, 9, 10], [1, 3], [1, 3], [1, 8], [2, 9, 10], [1, 9], [1, 2], [0], [0], [0], [1, 2], [0], [1, 7], [0], [0], [1, 4], [0], [1, 7], [2, 6, 7], [0], [2, 5, 6], [0], [1, 1], [1, 6], [0], [1, 7], [4, 1, 6, 8, 9], [1, 4], [1, 4], [0], [0], [2, 5, 8], [1, 1], [1, 5], [2, 3, 5], [0], [1, 9], [1, 1], [1, 7], [2, 1, 10], [0], [0], [0], [1, 1], [2, 6, 9], [1, 5], [1, 2], [2, 6, 9], [2, 5, 8], [2, 2, 6], [0], [0], [0], [0], [2, 5, 10], [0], [0], [0], [0], [0], [0], [0], [0]] [[27, 61, 512], [80, 45, 145], [37, 11, 215], [6, 8, 981], [46, 1, 543], [3, 29, 863], [32, 2, 118], [52, 12, 813], [62, 3, 654], [14, 3, 970], [53, 41, 953], [44, 2, 461], [57, 3, 547], [49, 45, 171], [9, 20, 202], [6, 31, 536], [11, 6, 157], [42, 33, 525], [50, 21, 346], [4, 5, 462], [19, 66, 756], [26, 21, 649], [43, 58, 271], [48, 78, 91], [19, 17, 385], [77, 69, 857], [94, 74, 889], [19, 71, 290], [63, 74, 890], [45, 32, 960], [18, 14, 210], [3, 6, 841], [83, 51, 378], [21, 64, 21], [5, 3, 698], [100, 26, 667], [38, 39, 938], [11, 21, 424], [23, 69, 706], [75, 11, 433], [65, 59, 649], [1, 2, 861], [15, 27, 870], [86, 77, 500], [4, 1, 797], [44, 81, 148], [13, 56, 657], [29, 35, 768], [48, 97, 190], [17, 82, 322], [46, 93, 87], [23, 47, 913], [48, 14, 65], [84, 50, 747], [10, 5, 558], [15, 6, 627], [71, 91, 54], [96, 45, 900], [37, 88, 972], [25, 2, 218], [23, 76, 160], [10, 85, 84], [3, 38, 765], [12, 6, 678], [67, 16, 791], [22, 15, 752], [68, 44, 457], [48, 54, 174], [13, 70, 96], [58, 79, 320], [89, 70, 500], [34, 43, 257], [41, 1, 119], [23, 30, 909], [98, 30, 560], [3, 24, 50], [63, 8, 770], [2, 13, 638], [14, 33, 91], [28, 6, 266], [5, 9, 608], [23, 20, 532], [95, 24, 382], [1, 7, 906], [99, 9, 244], [87, 16, 364], [87, 90, 475], [73, 14, 266], [16, 11, 745], [27, 60, 145], [76, 92, 817], [72, 71, 886], [34, 24, 814], [12, 36, 415], [11, 17, 868], [59, 3, 193], [55, 8, 724], [27, 51, 483], [7, 40, 305], [2, 3, 113]]\n",
      "FAIL! your minimum time:  None True answer:  5242 . Time consumed:  0.0010066032409667969 s\n",
      "Test 9\n",
      "250 250 10 [[0], [0], [0], [0], [0], [0], [0], [0], [0], [0], [0], [0], [0], [0], [0], [0], [0], [0], [0], [0], [0], [0], [0], [0], [0], [0], [0], [0], [0], [0], [0], [0], [0], [0], [0], [0], [0], [0], [0], [0], [0], [0], [1, 2], [0], [0], [0], [0], [0], [0], [0], [0], [0], [0], [1, 8], [1, 7], [0], [0], [0], [1, 4], [1, 10], [1, 5], [0], [0], [2, 3, 9], [0], [1, 3], [1, 1], [0], [0], [0], [0], [0], [1, 7], [0], [0], [0], [0], [0], [0], [1, 4], [0], [0], [0], [1, 3], [0], [0], [0], [0], [0], [0], [0], [0], [0], [0], [0], [0], [0], [0], [0], [0], [0], [0], [0], [0], [0], [0], [0], [0], [0], [0], [0], [1, 6], [0], [0], [0], [0], [0], [0], [0], [0], [0], [0], [0], [0], [0], [0], [0], [0], [0], [0], [0], [0], [0], [0], [0], [0], [0], [0], [0], [0], [0], [1, 10], [0], [0], [0], [0], [0], [0], [0], [0], [0], [1, 1], [0], [0], [0], [0], [0], [0], [0], [0], [0], [0], [0], [0], [0], [0], [0], [0], [0], [0], [0], [0], [0], [0], [0], [0], [0], [0], [0], [0], [0], [0], [0], [0], [0], [0], [0], [0], [0], [0], [0], [0], [0], [1, 9], [1, 10], [0], [1, 9], [0], [0], [0], [0], [0], [0], [0], [0], [1, 7], [0], [0], [0], [0], [0], [0], [0], [0], [0], [0], [0], [0], [0], [0], [0], [0], [0], [0], [0], [0], [0], [0], [0], [1, 5], [0], [1, 1], [0], [0], [0], [0], [0], [0], [0], [0], [0], [0], [0], [0], [0], [0], [0], [0], [0], [0]] [[78, 240, 48], [21, 39, 159], [34, 24, 960], [132, 46, 275], [92, 196, 189], [51, 120, 931], [117, 179, 603], [64, 191, 261], [131, 172, 159], [17, 206, 511], [167, 111, 156], [13, 24, 296], [22, 211, 444], [5, 4, 93], [10, 17, 713], [91, 90, 130], [214, 242, 984], [12, 5, 801], [82, 73, 251], [125, 2, 723], [28, 62, 107], [224, 138, 307], [111, 38, 755], [20, 33, 680], [18, 26, 308], [88, 159, 788], [49, 8, 449], [113, 204, 431], [227, 52, 514], [92, 91, 819], [86, 21, 61], [37, 103, 466], [194, 197, 479], [41, 45, 746], [157, 188, 72], [184, 147, 127], [162, 133, 164], [175, 158, 438], [195, 163, 470], [200, 162, 434], [68, 37, 52], [218, 171, 395], [61, 128, 530], [169, 112, 95], [31, 57, 783], [43, 96, 430], [146, 12, 974], [12, 106, 51], [55, 215, 88], [65, 168, 54], [63, 182, 645], [157, 164, 508], [5, 48, 335], [30, 10, 163], [145, 76, 336], [116, 131, 857], [84, 116, 541], [243, 14, 756], [105, 152, 704], [122, 18, 641], [1, 136, 642], [155, 186, 244], [78, 75, 31], [164, 207, 839], [140, 132, 364], [151, 43, 491], [124, 86, 475], [89, 80, 361], [55, 54, 234], [19, 79, 624], [113, 56, 146], [127, 133, 100], [54, 249, 529], [5, 8, 945], [54, 12, 561], [79, 205, 688], [75, 81, 968], [86, 156, 342], [107, 84, 583], [87, 73, 213], [235, 126, 237], [223, 142, 255], [47, 45, 846], [74, 129, 201], [43, 147, 300], [122, 221, 173], [155, 125, 376], [120, 220, 448], [3, 10, 56], [25, 27, 386], [235, 247, 446], [30, 40, 696], [98, 154, 204], [99, 37, 140], [15, 194, 914], [35, 23, 493], [105, 73, 444], [138, 92, 825], [4, 20, 424], [67, 4, 239], [231, 52, 293], [181, 57, 438], [236, 205, 24], [165, 103, 168], [183, 175, 626], [41, 21, 333], [70, 158, 204], [163, 7, 436], [127, 237, 903], [49, 173, 746], [110, 130, 859], [38, 73, 76], [18, 7, 588], [161, 116, 840], [35, 250, 107], [22, 53, 846], [128, 233, 348], [6, 9, 823], [42, 18, 650], [4, 52, 878], [109, 59, 936], [118, 178, 468], [51, 65, 717], [21, 2, 768], [157, 189, 742], [4, 28, 352], [67, 110, 713], [21, 77, 948], [166, 12, 950], [48, 245, 42], [3, 1, 656], [239, 207, 158], [47, 127, 778], [139, 148, 925], [108, 92, 883], [56, 54, 221], [55, 71, 262], [244, 147, 341], [59, 33, 698], [43, 51, 173], [35, 58, 669], [7, 6, 571], [11, 7, 748], [157, 151, 757], [161, 170, 796], [185, 43, 961], [199, 141, 695], [187, 78, 709], [43, 13, 223], [216, 77, 303], [10, 13, 272], [177, 170, 740], [76, 64, 731], [84, 42, 319], [33, 104, 584], [112, 119, 66], [13, 15, 175], [29, 36, 51], [23, 10, 269], [149, 93, 761], [61, 9, 747], [139, 69, 204], [212, 102, 895], [209, 70, 387], [1, 2, 925], [143, 74, 375], [142, 119, 844], [119, 222, 965], [148, 176, 53], [132, 219, 365], [38, 135, 248], [238, 4, 952], [38, 13, 293], [94, 78, 440], [101, 19, 446], [30, 37, 662], [123, 18, 227], [118, 52, 629], [19, 201, 357], [14, 98, 414], [180, 43, 592], [67, 203, 500], [75, 213, 526], [225, 99, 429], [246, 103, 922], [121, 91, 581], [202, 40, 18], [16, 83, 546], [241, 117, 505], [230, 38, 804], [192, 110, 536], [8, 31, 590], [40, 69, 441], [6, 1, 98], [54, 88, 822], [67, 150, 278], [4, 1, 362], [248, 240, 218], [46, 12, 599], [25, 5, 180], [103, 112, 684], [7, 14, 207], [15, 210, 362], [24, 126, 54], [149, 228, 865], [10, 144, 262], [232, 213, 839], [85, 80, 353], [6, 75, 793], [193, 147, 472], [13, 64, 532], [198, 169, 802], [8, 50, 206], [208, 198, 186], [115, 43, 988], [78, 80, 689], [44, 37, 646], [165, 226, 489], [229, 110, 6], [190, 141, 818], [234, 177, 161], [29, 134, 323], [217, 136, 849], [3, 137, 608], [93, 45, 404], [63, 39, 795], [160, 34, 173], [41, 72, 288], [65, 174, 172], [81, 114, 684], [50, 117, 221], [70, 59, 80], [60, 10, 5], [32, 2, 383], [80, 90, 535], [63, 141, 75], [95, 13, 934], [15, 22, 286], [66, 7, 112], [16, 5, 263], [43, 100, 68], [19, 8, 621], [102, 52, 925], [23, 153, 993], [214, 102, 535], [97, 61, 816], [138, 135, 662], [171, 157, 752], [7, 29, 763], [74, 13, 83]]\n",
      "FAIL! your minimum time:  None True answer:  9643 . Time consumed:  0.0 s\n",
      "Test 10\n",
      "300 500 9 [[0], [0], [0], [0], [0], [0], [0], [0], [0], [0], [0], [0], [0], [0], [2, 4, 6], [0], [0], [0], [0], [0], [0], [0], [0], [0], [0], [0], [0], [0], [0], [0], [1, 6], [0], [0], [0], [0], [0], [0], [0], [0], [0], [0], [0], [0], [0], [0], [0], [0], [0], [0], [0], [0], [0], [0], [1, 4], [0], [0], [1, 3], [0], [1, 1], [0], [0], [0], [1, 8], [0], [0], [0], [0], [0], [0], [0], [0], [0], [0], [0], [0], [0], [0], [0], [0], [0], [0], [0], [0], [0], [0], [0], [0], [0], [0], [0], [0], [0], [0], [0], [1, 7], [0], [0], [0], [0], [0], [0], [0], [0], [0], [0], [0], [0], [0], [0], [0], [0], [0], [0], [0], [0], [0], [0], [0], [0], [1, 7], [0], [0], [0], [0], [0], [0], [0], [1, 2], [0], [1, 6], [0], [0], [0], [0], [0], [0], [0], [0], [0], [0], [0], [0], [0], [0], [0], [0], [0], [0], [0], [0], [0], [0], [0], [0], [0], [0], [0], [0], [0], [0], [0], [0], [0], [0], [0], [0], [0], [0], [0], [0], [0], [0], [0], [0], [0], [0], [0], [0], [0], [0], [0], [0], [0], [0], [1, 2], [0], [0], [0], [0], [0], [0], [0], [0], [0], [0], [0], [0], [0], [0], [0], [0], [0], [0], [0], [0], [0], [0], [0], [0], [0], [0], [0], [0], [0], [0], [0], [0], [0], [0], [0], [1, 8], [1, 9], [0], [0], [0], [0], [0], [0], [0], [0], [0], [0], [0], [0], [0], [1, 5], [0], [0], [0], [0], [0], [0], [0], [1, 3], [0], [0], [0], [0], [0], [0], [0], [1, 6], [0], [0], [0], [0], [0], [0], [0], [0], [0], [0], [0], [0], [1, 4], [0], [0], [1, 1], [0], [1, 7], [0], [0], [0], [0], [0], [0], [0], [0], [0], [0], [1, 5], [0], [0], [0], [0], [0], [0], [1, 8], [0], [0], [0], [0], [0], [0], [0], [0], [0], [0], [0], [0]] [[276, 261, 452], [11, 5, 119], [91, 176, 818], [32, 179, 681], [44, 81, 641], [148, 114, 931], [210, 161, 128], [282, 108, 555], [205, 98, 277], [21, 3, 541], [71, 42, 971], [108, 154, 129], [169, 69, 118], [61, 7, 279], [22, 53, 292], [26, 74, 15], [286, 276, 621], [204, 33, 415], [47, 14, 578], [47, 293, 449], [55, 56, 735], [8, 27, 678], [130, 125, 305], [68, 111, 337], [129, 119, 173], [230, 69, 612], [16, 62, 449], [214, 74, 284], [66, 203, 570], [202, 276, 109], [164, 62, 218], [39, 52, 474], [30, 162, 116], [194, 34, 748], [179, 257, 912], [205, 202, 968], [56, 158, 463], [23, 5, 31], [223, 199, 561], [135, 110, 361], [292, 291, 392], [180, 190, 945], [166, 82, 838], [137, 19, 293], [35, 33, 523], [3, 5, 531], [3, 151, 659], [150, 61, 452], [236, 287, 739], [140, 114, 296], [284, 166, 579], [90, 28, 450], [167, 175, 169], [126, 200, 30], [57, 65, 754], [93, 138, 57], [38, 160, 50], [300, 181, 841], [112, 292, 510], [295, 42, 419], [243, 118, 955], [153, 295, 582], [276, 85, 42], [93, 24, 860], [64, 146, 775], [68, 53, 413], [99, 170, 940], [4, 201, 596], [129, 54, 103], [27, 67, 255], [41, 40, 237], [74, 77, 346], [5, 35, 134], [182, 151, 658], [184, 30, 24], [122, 201, 742], [27, 251, 576], [83, 35, 217], [32, 102, 310], [158, 33, 425], [88, 192, 403], [167, 268, 673], [48, 97, 912], [136, 125, 778], [72, 41, 773], [228, 107, 872], [25, 220, 502], [6, 164, 752], [270, 169, 972], [115, 168, 462], [1, 2, 67], [7, 82, 199], [11, 26, 97], [296, 51, 373], [262, 105, 649], [179, 256, 824], [218, 219, 620], [154, 163, 319], [46, 70, 597], [181, 99, 152], [48, 119, 723], [139, 94, 446], [69, 124, 9], [27, 133, 962], [196, 247, 644], [244, 127, 473], [87, 28, 701], [281, 7, 499], [150, 169, 861], [34, 103, 361], [261, 176, 440], [66, 213, 970], [155, 178, 354], [235, 177, 545], [39, 17, 439], [45, 291, 749], [2, 10, 584], [136, 196, 109], [131, 226, 707], [142, 50, 648], [218, 3, 88], [22, 257, 398], [155, 22, 62], [221, 250, 896], [182, 243, 422], [210, 80, 799], [134, 32, 698], [36, 42, 302], [54, 114, 645], [182, 29, 202], [94, 74, 353], [130, 265, 838], [79, 85, 232], [67, 98, 933], [2, 6, 33], [43, 55, 688], [11, 292, 318], [270, 178, 321], [293, 183, 522], [78, 256, 889], [14, 225, 554], [73, 169, 365], [130, 177, 753], [100, 202, 348], [128, 16, 321], [273, 17, 897], [32, 100, 660], [37, 35, 380], [43, 167, 946], [96, 2, 600], [45, 33, 160], [240, 194, 866], [120, 65, 91], [259, 166, 1000], [132, 238, 146], [134, 296, 816], [181, 120, 244], [242, 84, 700], [259, 15, 606], [225, 28, 453], [216, 115, 979], [290, 130, 218], [23, 9, 901], [171, 86, 697], [205, 161, 184], [205, 275, 218], [22, 24, 804], [36, 279, 146], [132, 4, 769], [167, 273, 351], [122, 267, 241], [1, 104, 972], [82, 84, 276], [82, 136, 232], [140, 126, 93], [176, 151, 877], [131, 157, 697], [186, 77, 829], [7, 12, 542], [37, 245, 344], [192, 245, 471], [234, 246, 304], [236, 128, 210], [236, 294, 677], [170, 245, 544], [99, 36, 161], [99, 194, 185], [42, 185, 374], [4, 291, 946], [272, 148, 382], [93, 248, 969], [266, 278, 712], [14, 58, 863], [197, 206, 999], [1, 49, 498], [165, 21, 729], [1, 59, 152], [234, 243, 576], [258, 93, 134], [76, 5, 852], [110, 107, 53], [224, 6, 650], [258, 242, 347], [112, 221, 435], [217, 107, 471], [9, 128, 136], [274, 104, 784], [285, 278, 687], [69, 200, 521], [294, 240, 177], [122, 3, 325], [28, 75, 578], [47, 158, 307], [299, 55, 303], [80, 3, 37], [152, 102, 401], [6, 108, 507], [21, 49, 811], [6, 163, 710], [177, 18, 64], [260, 65, 447], [32, 250, 643], [221, 139, 3], [17, 28, 481], [152, 133, 86], [194, 130, 763], [142, 135, 691], [121, 69, 753], [39, 115, 21], [165, 69, 126], [2, 156, 368], [149, 221, 189], [69, 43, 606], [6, 16, 535], [72, 141, 687], [197, 48, 933], [169, 16, 726], [234, 56, 925], [284, 4, 255], [57, 79, 957], [200, 180, 92], [213, 269, 664], [114, 180, 637], [23, 54, 792], [126, 73, 21], [253, 3, 116], [104, 124, 184], [4, 51, 928], [275, 283, 531], [193, 98, 778], [62, 105, 22], [235, 67, 776], [53, 203, 880], [245, 232, 352], [47, 144, 871], [292, 114, 25], [260, 48, 941], [234, 143, 782], [18, 153, 996], [60, 51, 258], [140, 119, 215], [131, 222, 508], [168, 117, 153], [108, 287, 122], [297, 187, 600], [190, 110, 662], [14, 30, 179], [95, 198, 812], [148, 268, 196], [6, 57, 738], [48, 262, 717], [10, 148, 882], [161, 137, 338], [7, 35, 378], [239, 282, 825], [166, 36, 216], [287, 80, 193], [184, 286, 191], [63, 89, 110], [81, 218, 801], [145, 250, 560], [242, 161, 896], [230, 28, 105], [251, 41, 956], [42, 44, 716], [215, 130, 835], [33, 10, 716], [89, 228, 854], [11, 253, 405], [7, 6, 631], [275, 238, 874], [104, 57, 713], [188, 229, 196], [40, 269, 876], [99, 82, 671], [198, 242, 620], [91, 31, 94], [88, 68, 77], [3, 2, 608], [153, 197, 224], [188, 75, 53], [209, 173, 728], [285, 296, 920], [10, 64, 360], [28, 31, 517], [169, 180, 333], [277, 213, 285], [266, 14, 703], [116, 279, 428], [248, 176, 396], [9, 13, 965], [170, 171, 37], [146, 77, 501], [109, 80, 815], [7, 14, 230], [68, 266, 77], [2, 4, 906], [268, 134, 477], [202, 110, 63], [184, 208, 12], [170, 146, 293], [23, 31, 70], [264, 194, 637], [31, 156, 276], [65, 9, 252], [51, 112, 163], [207, 77, 990], [25, 97, 586], [165, 45, 269], [159, 107, 327], [145, 75, 248], [12, 46, 494], [181, 147, 204], [19, 116, 561], [4, 92, 397], [161, 215, 998], [106, 290, 813], [112, 105, 596], [173, 171, 845], [135, 86, 439], [10, 142, 998], [127, 50, 968], [137, 180, 91], [144, 100, 90], [239, 33, 912], [249, 82, 986], [50, 8, 901], [34, 205, 225], [95, 40, 558], [32, 143, 69], [36, 267, 501], [252, 61, 965], [271, 220, 3], [25, 251, 861], [240, 91, 629], [152, 89, 391], [32, 17, 6], [124, 112, 505], [139, 62, 650], [2, 123, 462], [146, 9, 480], [298, 278, 135], [274, 2, 492], [61, 285, 221], [42, 52, 114], [179, 216, 948], [78, 43, 608], [147, 104, 83], [194, 231, 784], [80, 113, 906], [93, 284, 669], [168, 22, 156], [15, 8, 811], [9, 3, 867], [247, 149, 144], [185, 188, 852], [154, 5, 154], [173, 265, 866], [24, 35, 793], [103, 38, 915], [133, 232, 372], [78, 118, 135], [155, 7, 765], [5, 132, 667], [65, 154, 61], [73, 16, 90], [8, 177, 627], [259, 145, 295], [10, 66, 633], [209, 35, 153], [43, 28, 63], [263, 157, 863], [243, 231, 186], [76, 61, 11], [9, 196, 119], [40, 17, 893], [180, 113, 195], [186, 270, 63], [77, 209, 14], [244, 44, 259], [266, 44, 93], [107, 195, 6], [280, 165, 692], [258, 80, 610], [36, 30, 653], [103, 120, 661], [216, 136, 358], [101, 119, 492], [60, 212, 193], [255, 82, 716], [17, 193, 481], [9, 18, 251], [106, 94, 813], [243, 82, 552], [33, 44, 157], [63, 61, 626], [46, 218, 266], [3, 34, 182], [244, 195, 211], [132, 241, 841], [90, 125, 274], [12, 6, 453], [253, 275, 588], [4, 20, 836], [253, 217, 331], [26, 48, 162], [101, 88, 320], [172, 56, 896], [159, 7, 599], [20, 35, 775], [148, 256, 182], [142, 114, 562], [132, 218, 458], [191, 170, 63], [51, 199, 453], [165, 197, 536], [86, 289, 696], [109, 281, 392], [9, 29, 123], [180, 97, 233], [211, 127, 885], [96, 288, 671], [186, 283, 263], [226, 182, 376], [125, 79, 475], [22, 1, 460], [189, 28, 829], [150, 272, 265], [204, 211, 454], [25, 3, 907], [214, 6, 23], [154, 237, 430], [25, 248, 766], [147, 133, 743], [17, 19, 890], [19, 42, 400], [260, 224, 828], [14, 121, 358], [75, 4, 537], [159, 120, 151], [187, 11, 935], [150, 57, 64], [68, 293, 770], [107, 100, 117], [173, 215, 387], [274, 260, 917], [98, 247, 613], [127, 253, 411], [102, 183, 225], [4, 17, 870], [188, 233, 573], [189, 223, 917], [86, 78, 588], [217, 167, 820], [152, 290, 351], [138, 212, 147], [31, 133, 831], [117, 51, 333], [39, 44, 573], [28, 131, 874], [146, 276, 504], [196, 40, 495], [83, 149, 735], [160, 180, 658], [216, 264, 693], [31, 234, 777], [154, 157, 781], [262, 155, 453], [47, 31, 186], [174, 124, 187], [8, 3, 518], [238, 22, 233], [97, 254, 578], [25, 104, 883], [46, 227, 172], [197, 52, 865], [38, 5, 796], [42, 46, 285], [231, 138, 965], [81, 39, 5]]\n",
      "FAIL! your minimum time:  None True answer:  6646 . Time consumed:  0.0009698867797851562 s\n",
      "Percentage of success:  0.0\n"
     ]
    }
   ],
   "source": [
    "import time\n",
    "\n",
    "pass_count = 0\n",
    "test_count = 10\n",
    "Time_Limit = 9\n",
    "for i in range(test_count):\n",
    "    print(\"Test\", (i + 1))\n",
    "    file_in_name = \"In\" + str(i + 1)\n",
    "    file_out_name = \"Out\" + str(i + 1)\n",
    "    f = open(\"Inputs/\" + file_in_name + \".txt\", 'r')\n",
    "    N, M, K = map(int, f.readline().split())\n",
    "    NUMS = []\n",
    "    roads = []\n",
    "    for i in range(N):\n",
    "        nums = list(map(int, f.readline().split()))\n",
    "        NUMS.append(nums)\n",
    "    for i in range(M):\n",
    "        road = list(map(int, f.readline().split()))\n",
    "        roads.append(road)\n",
    "    start_time = time.time()\n",
    "    print(N, M, K, NUMS, roads)\n",
    "    result = solve(N, M, K, NUMS, roads)\n",
    "    end_time = time.time()\n",
    "    f_out = open(\"Outputs/\" + file_out_name + \".txt\", 'r')\n",
    "    true_output = int(f_out.read())\n",
    "    if result == true_output and Time_Limit >= end_time - start_time:\n",
    "        print(\"PASS.\", \"Your answer which is True: \", result, \". Time consumed: \", end_time - start_time, \"s\")\n",
    "        pass_count += 1\n",
    "    else:\n",
    "        print(\"FAIL!\", \"your minimum time: \", result, \"True answer: \", true_output, \". Time consumed: \", end_time - start_time, \"s\")\n",
    "        \n",
    "print(\"Percentage of success: \", (pass_count / test_count) * 100)"
   ]
  },
  {
   "cell_type": "markdown",
   "metadata": {},
   "source": [
    "# Q2 (20 Points)"
   ]
  },
  {
   "cell_type": "markdown",
   "metadata": {},
   "source": [
    "<font size=4>\n",
    "Author: Amin Meghrazi\n",
    "\t\t\t<br/>\n",
    "                <font color=red>\n",
    "Please run all the cells.\n",
    "     </font>\n",
    "</font>\n",
    "                <br/>\n",
    "    </div>"
   ]
  },
  {
   "cell_type": "code",
   "execution_count": null,
   "metadata": {
    "collectable": true
   },
   "outputs": [],
   "source": [
    "# place for your custom functions for Q2 here"
   ]
  },
  {
   "cell_type": "markdown",
   "metadata": {},
   "source": [
    "In this Problem, We want to use A* algorithm to present a solution for an interesting game that we called it, Push Till Redemption. :) <br/>\n",
    "First, we introduce you to some major features of this game. <br/>"
   ]
  },
  {
   "cell_type": "markdown",
   "metadata": {},
   "source": [
    "In this game, we have a map with **M** $\\times$ **N** dimensions covered by a one-layer wall. i.e., The **M-2** $\\times$ **N-2** rectangle in the middle is our usable map. <br/>\n",
    "There are some boxes whose primary coordinates are specified at the start point, and also There are some specified cells which we call storage, and the most important thing is that we have an agent in this game that should push the boxes to locate them in the storage cells. In the general format of the game, each box can be placed in each storage, but sometimes our boxes may have restrictions. i.e., A specified box must be placed at specified storage. <br/>\n",
    "And the last feature of this game is its obstacles; We may have some fixed obstacles in some cells of the map, which our agent can't move to cells grides and obviously can't push the boxes to those cells too.."
   ]
  },
  {
   "cell_type": "markdown",
   "metadata": {},
   "source": [
    "For better inrtoduction, take a look at these two pictures. <br/>\n",
    "  <img src=\"Images/map1.png\" alt=\"example1\" style=\"float: left; margin-left: 120px; width:200px;height:300px;\"/>\n",
    "  <img src=\"Images/map2.png\"  style=\"float: left; margin-left: 250px; width:200px;height:300px;\"/>"
   ]
  },
  {
   "cell_type": "markdown",
   "metadata": {},
   "source": [
    "First, we should introduce symbols used in maps, In this Game, We use **#** for walls and obstacles, $*$ for boxes, **?** for the location of the agent, **-** for storage cell, and if our map had some restrictions, we highlight both the box and its corresponding storage cell with the same color. <br/>"
   ]
  },
  {
   "cell_type": "markdown",
   "metadata": {},
   "source": [
    "For more clarification, we give an example for defining the state of the game at the start point. Pay attention that this example corresponds to the left map. <br/>\n",
    "**An important point about defining state in this game is that we ignore border wall (i.e., two columns and two rows) in our input dimensions or coordinates.** <br/>\n",
    "Don't worry if you don't understand the meaning of some of these inputs or have some questions about them; They're completely explained if they were needed."
   ]
  },
  {
   "cell_type": "markdown",
   "metadata": {},
   "source": [
    "State(\"START\", 0, None, 4, 4,  # dimensions <br/>\n",
    "&nbsp;&nbsp;&nbsp;                (0, 3),  # agent <br/>\n",
    "&nbsp;&nbsp;&nbsp;                {(1, 2): 0, (1, 1): 1},  # boxes <br/>\n",
    "&nbsp;&nbsp;&nbsp;                {(2, 1): 0, (2, 2): 1},  # storage <br/>\n",
    "&nbsp;&nbsp;&nbsp;                frozenset(((0, 0), (1, 0), (3, 3))),  # obstacles <br/>\n",
    "&nbsp;&nbsp;&nbsp;                (frozenset(((2, 1),)), frozenset(((2, 2),))),  # restrictions, <br/>\n",
    "&nbsp;&nbsp;&nbsp;                {0: 'cyan', 1: 'magenta'},  # box colours <br/>\n",
    "&nbsp;&nbsp;&nbsp;                {0: 'cyan', 1: 'magenta'}  # storage colours <br/>\n",
    "&nbsp;&nbsp;&nbsp;                )"
   ]
  },
  {
   "cell_type": "markdown",
   "metadata": {},
   "source": [
    "You should implement an A* algorithm to solve this search problem and win the game in this question."
   ]
  },
  {
   "cell_type": "markdown",
   "metadata": {},
   "source": [
    "In this problem, we provide you with some of the files to complete the functionality of the game, which you can check out as you want to know more about this game and its properties. Still, for completing this task properly, It's not necessary to check them out, and this jupyter file contains sufficient description. Besides, We provide you with some of the functions to solve the problem. Some of them are complete, but some are incomplete, and you should complete them."
   ]
  },
  {
   "cell_type": "markdown",
   "metadata": {},
   "source": [
    "## Prerequisites"
   ]
  },
  {
   "cell_type": "code",
   "execution_count": null,
   "metadata": {},
   "outputs": [],
   "source": [
    "import numpy as np\n",
    "import math\n",
    "from Helper_codes.search import *\n",
    "from Helper_codes.sokoban import PROBLEMS, sokoban_goal_state"
   ]
  },
  {
   "cell_type": "markdown",
   "metadata": {},
   "source": [
    "## Heuristics"
   ]
  },
  {
   "cell_type": "markdown",
   "metadata": {},
   "source": [
    "In this section, we want to investigate three different heuristics. So we explain all requirements, and you should implement these heuristics. <br/>\n",
    "These functions should take a game state and Return a numeric value that serves as an estimate of the state's distance to the goal. <br/>\n",
    "Each state has components like **boxes** and **storage**. <br/>\n",
    "**boxes:** A dictionary where the keys are the coordinates of each box, and the values are the index of that box which is equal to the index of that box's list of restrictions if it has restrictions. <br/>\n",
    "**storage:** A dictionary where the keys are the coordinates of each storage point, and the values are the index of that storage point."
   ]
  },
  {
   "cell_type": "markdown",
   "metadata": {},
   "source": [
    "### A. Displaced Boxes"
   ]
  },
  {
   "cell_type": "markdown",
   "metadata": {},
   "source": [
    "This heuristic is trivial and, of course, admissible. <br/>"
   ]
  },
  {
   "cell_type": "code",
   "execution_count": null,
   "metadata": {
    "collectable": true
   },
   "outputs": [],
   "source": [
    "def heur_displaced(state):    \n",
    "    #####################################################################\n",
    "    # (2 Points)                                                        #\n",
    "    # This function get input state which is a state of game,           #\n",
    "    # This function's output value is number of displaced boxes.        #\n",
    "    # i.e., Number of boxes which aren't in storage cells at this state.#                                             #\n",
    "    #####################################################################\n",
    "    pass"
   ]
  },
  {
   "cell_type": "markdown",
   "metadata": {},
   "source": [
    "Each state has a component named **restrictions**, a tuple of frozensets of valid storage coordinates for each box. **None** means that all storage locations are valid for each box. Also we know that index of each frozenset in this tuple (**state.restrictions**), is the value of corresponding **box** in dictionary of **state.boxes** . I recommend taking another look at the sample of states defining above."
   ]
  },
  {
   "cell_type": "markdown",
   "metadata": {},
   "source": [
    "Now with these explanations, you should implement Manhattan Distance and Euclidean Distance Heuristics."
   ]
  },
  {
   "cell_type": "markdown",
   "metadata": {},
   "source": [
    "### B. Manhattan Distance"
   ]
  },
  {
   "cell_type": "code",
   "execution_count": null,
   "metadata": {
    "collectable": true
   },
   "outputs": [],
   "source": [
    "def heur_manhattan_distance(state):\n",
    "    ############################################################\n",
    "    # (4 Points)                                               #\n",
    "    # This function get input state which is a state of game,  #\n",
    "    # For implementation of this function, You should find     #\n",
    "    # the closest storage cell for each box and calculate      #\n",
    "    # the manhattan distance between them                      #\n",
    "    # and the Return value of this function                    # \n",
    "    # is sum of these shortest distances.                      #\n",
    "    ############################################################\n",
    "    pass"
   ]
  },
  {
   "cell_type": "markdown",
   "metadata": {},
   "source": [
    "### C. Euclidean Distance"
   ]
  },
  {
   "cell_type": "code",
   "execution_count": null,
   "metadata": {
    "collectable": true
   },
   "outputs": [],
   "source": [
    "def heur_euclidean_distance(state):  \n",
    "    ############################################################\n",
    "    # (4 Points)                                               #\n",
    "    # This function get input state which is a state of game,  #\n",
    "    # For implementation of this function, You should find     #\n",
    "    # the closest storage cell for each box and calculate      #\n",
    "    # the euclidean distance between them                      #\n",
    "    # and the Return value of this function                    # \n",
    "    # is sum of these shortest distances.                      #\n",
    "    ############################################################\n",
    "    pass"
   ]
  },
  {
   "cell_type": "markdown",
   "metadata": {},
   "source": [
    "## Testing Heuristics"
   ]
  },
  {
   "cell_type": "markdown",
   "metadata": {},
   "source": [
    "In the given files, The common version of A* algorithm is available. By running the cells below, you could see the game's result for some different game states, which are ready for you through **PROBLEMS** and actually for different kinds of heuristics."
   ]
  },
  {
   "cell_type": "code",
   "execution_count": null,
   "metadata": {},
   "outputs": [],
   "source": [
    "def common_astar(heur_func, P_flag):    \n",
    "    solved = 0\n",
    "    unsolved = []\n",
    "    counter = 0\n",
    "    percent = 0\n",
    "    print_path = P_flag\n",
    "    timebound = 2  # 2 second time limit for each problem\n",
    "    print(\"*************************************\")\n",
    "    print(\"Running A-star with\" + str(heur_func) + \"Heuristic\")\n",
    "\n",
    "    for i in range(0, 10):  # note that there are 40 problems in the set that has been provided.  We just run through 10 here for illustration.\n",
    "        print(\"*************************************\")\n",
    "        print(\"PROBLEM {}\".format(i))\n",
    "\n",
    "        s0 = PROBLEMS[i]  # Problems will get harder as i gets bigger\n",
    "\n",
    "        se = SearchEngine('astar', 'full')\n",
    "        se.init_search(s0, goal_fn=sokoban_goal_state, heur_fn=heur_func)\n",
    "        final = se.search(timebound)\n",
    "        \n",
    "        if final:\n",
    "            solved += 1\n",
    "            if print_path:\n",
    "                final.print_path()\n",
    "            \n",
    "        else:\n",
    "            unsolved.append(i)\n",
    "        counter += 1\n",
    "\n",
    "    if counter > 0:\n",
    "        percent = (solved / counter) * 100\n",
    "\n",
    "    print(\"*************************************\")\n",
    "    print(\"{} of {} problems ({} %) solved in less than {} seconds.\".format(solved, counter, percent, timebound))\n",
    "    print(\"Problems that remain unsolved in the set are Problems: {}\".format(unsolved))\n",
    "    print(\"*************************************\")"
   ]
  },
  {
   "cell_type": "markdown",
   "metadata": {},
   "source": [
    "Notice that the **common_astart** function get two inputs, one for determining the heuristic function and another boolean input, determines whether the final path of the solution needs to be drawn or not, So if you want to check the steps of the game, you should change that field to **True**."
   ]
  },
  {
   "cell_type": "code",
   "execution_count": null,
   "metadata": {},
   "outputs": [],
   "source": [
    "common_astar(heur_displaced, False)"
   ]
  },
  {
   "cell_type": "code",
   "execution_count": null,
   "metadata": {},
   "outputs": [],
   "source": [
    "common_astar(heur_manhattan_distance, False)"
   ]
  },
  {
   "cell_type": "code",
   "execution_count": null,
   "metadata": {},
   "outputs": [],
   "source": [
    "common_astar(heur_euclidean_distance, False)"
   ]
  },
  {
   "cell_type": "markdown",
   "metadata": {},
   "source": [
    "Now that you have seen how your three heuristics perform in action, Please compare these three different heuristic functions from various aspects like **Search Time, Expanded Nodes, etc.** <br/>\n",
    "I want you to feel free about this comparison and act as you like. For example, you can just explain your points of view in the below cell or compare the performance of these three heuristic functions with some kind of charts or graphs and explain a little about your deduction. (There's no restriction about the type of charts or graphs)."
   ]
  },
  {
   "cell_type": "code",
   "execution_count": null,
   "metadata": {
    "collectable": true
   },
   "outputs": [],
   "source": [
    "# in case you want to draw charts for your explanation"
   ]
  },
  {
   "cell_type": "markdown",
   "metadata": {},
   "source": [
    "<font color=blue>\n",
    "    (3 Points) <br/>\n",
    "Your Explanation goes here....\n",
    "</font>"
   ]
  },
  {
   "cell_type": "markdown",
   "metadata": {},
   "source": [
    "## Anytime weighted A*"
   ]
  },
  {
   "cell_type": "markdown",
   "metadata": {},
   "source": [
    "In this section, We want you to implement another A* algorithm which is named **anytime weighted A*** in this algorithm, and we take the initial state of the game, heuristic function, weight, and timebound as inputs which **weight** is the factor which determines the impact of heuristic in calculating f_value (g + w\\*h) and **timebound** is the number of seconds that we have for running this algorithm. And Output of this function is a **goal state of search** (if a goal is found), else **FALSE**. <br/>\n",
    "In this version of A*, we aim to find the optimal path and optimal goal. So while there is time, we call the search method of the search engine (**se**) and we look for a path with minimum cost and to save time, We use cost-bounder to prune states which have bigger f_value than the best path cost we found so far. Costbounder is a three tuple that is like (g_val, h_val, g_val + h_val) which each of these 3 are like limit for pruning successor state. Please pay attention that in this version, we prune only when the current final f is larger than best_path_cost<br/>\n",
    "As you can see in the function below, first we save the f_value function, which is affected by weight, into **wrapped_fval_function** then we make a search engine and call its **init_search**. <br/>\n",
    "For calculating goal value to compare with best path cost that was found, We use **final.gval + heur_fn(final)** which **final** is the goal state in case is found."
   ]
  },
  {
   "cell_type": "code",
   "execution_count": null,
   "metadata": {},
   "outputs": [],
   "source": [
    "def fval_function(sN, weight):\n",
    "    \"\"\"\n",
    "    Provide a custom formula for f-value computation for Anytime Weighted A star.\n",
    "    Returns the fval of the state contained in the sNode.\n",
    "\n",
    "    @param sNode sN: A search node (containing a SokobanState)\n",
    "    @param float weight: Weight given by Anytime Weighted A star\n",
    "    @rtype: float\n",
    "    \"\"\"\n",
    "\n",
    "    return sN.gval + weight * sN.hval"
   ]
  },
  {
   "cell_type": "code",
   "execution_count": null,
   "metadata": {
    "collectable": true
   },
   "outputs": [],
   "source": [
    "def anytime_weighted_astar(initial_state, heur_fn, weight=1., timebound=10):\n",
    "    # initialization\n",
    "    best_path_cost = float(\"inf\")\n",
    "    time_remain = 8\n",
    "    iter = 0\n",
    "\n",
    "    wrapped_fval_function = (lambda sN: fval_function(sN, weight))\n",
    "    se = SearchEngine('custom', 'full')\n",
    "    se.init_search(initial_state, sokoban_goal_state, heur_fn, wrapped_fval_function)\n",
    "\n",
    "    while (time_remain > 0) and not se.open.empty():\n",
    "        ################################################\n",
    "        # (4 Points)                                   #\n",
    "        # Complete this loop                           #\n",
    "        # with information we gave you before.         #\n",
    "        ################################################\n",
    "        pass\n",
    "    try:\n",
    "        return optimal_final\n",
    "    except:\n",
    "        return final\n",
    "\n",
    "    return False"
   ]
  },
  {
   "cell_type": "markdown",
   "metadata": {},
   "source": [
    "## Running the Game"
   ]
  },
  {
   "cell_type": "code",
   "execution_count": null,
   "metadata": {},
   "outputs": [],
   "source": [
    "def run_astar(P_flag):\n",
    "    solved = 0\n",
    "    unsolved = []\n",
    "    counter = 0\n",
    "    percent = 0\n",
    "    print_path = P_flag\n",
    "    timebound = 8  # 8 second time limit\n",
    "    print(\"Running Anytime Weighted A-star\")\n",
    "\n",
    "    for i in range(0, 10):\n",
    "        print(\"*************************************\")\n",
    "        print(\"PROBLEM {}\".format(i))\n",
    "\n",
    "        s0 = PROBLEMS[i]  # Problems get harder as i gets bigger\n",
    "        weight = 10\n",
    "        final = anytime_weighted_astar(s0, heur_fn=heur_displaced, weight=weight, timebound=timebound)\n",
    "\n",
    "        if final:\n",
    "            solved += 1\n",
    "            if print_path:\n",
    "                final.print_path()\n",
    "        else:\n",
    "            unsolved.append(i)\n",
    "        counter += 1\n",
    "\n",
    "    if counter > 0:\n",
    "        percent = (solved / counter) * 100\n",
    "\n",
    "    print(\"*************************************\")\n",
    "    print(\"{} of {} problems ({} %) solved in less than {} seconds.\".format(solved, counter, percent, timebound))\n",
    "    print(\"Problems that remain unsolved in the set are Problems: {}\".format(unsolved))\n",
    "    print(\"*************************************\")"
   ]
  },
  {
   "cell_type": "markdown",
   "metadata": {},
   "source": [
    "Notice that the **run_astart** function get one input which is boolean. It determines whether the solution's final path is drawn or not, So if you want to check the steps of the game, you should change that field to **True**."
   ]
  },
  {
   "cell_type": "code",
   "execution_count": null,
   "metadata": {},
   "outputs": [],
   "source": [
    "run_astar(False)"
   ]
  },
  {
   "cell_type": "markdown",
   "metadata": {},
   "source": [
    "Compare these versions of the A* algorithm with the common version you knew before and mention its advantages."
   ]
  },
  {
   "cell_type": "code",
   "execution_count": null,
   "metadata": {
    "collectable": true
   },
   "outputs": [],
   "source": [
    "# in case you want to draw charts for your explanation"
   ]
  },
  {
   "cell_type": "markdown",
   "metadata": {},
   "source": [
    "<font color=blue>\n",
    "    (3 Points) <br/>\n",
    "Your Explanation goes here....\n",
    "</font>"
   ]
  },
  {
   "cell_type": "markdown",
   "metadata": {},
   "source": [
    "# Q3 (25 Points)"
   ]
  },
  {
   "cell_type": "markdown",
   "metadata": {},
   "source": [
    "<font size=4>\n",
    "Authors: Amirmahdi Namjoo, Sajjad Faghfoor Maghrebi\n",
    "\t\t\t<br/>\n",
    "                <font color=red>\n",
    "Please run all the cells.\n",
    "     </font>\n",
    "</font>\n",
    "                <br/>\n",
    "    </div>"
   ]
  },
  {
   "cell_type": "code",
   "execution_count": null,
   "metadata": {
    "collectable": true
   },
   "outputs": [],
   "source": [
    "# place for your custom functions for Q3 here"
   ]
  },
  {
   "cell_type": "markdown",
   "metadata": {},
   "source": [
    "In This Problem, We want to investigate the minimum vertex cover problem. Informally, A vertex cover is a subset of vertices that cover all the edges. i.e., for each edge, there exists an endpoint in the vertex cover. A minimum vertex cover is a vertex cover with the least amount of vertices possible.\n"
   ]
  },
  {
   "cell_type": "markdown",
   "metadata": {},
   "source": [
    "The Formal definition of the problem is as follows:\n",
    "A vertex cover $V'$ of an undirected graph $G = (V,E)$ is a subset of $V$ such that for all edge $uv \\in E \\Rightarrow u \\in V' \\vee v \\in V'$. The vertex cover with the smallest possible size is called the minimum vertex cover."
   ]
  },
  {
   "cell_type": "markdown",
   "metadata": {},
   "source": [
    "Minimum vertex cover is a famous NP-Hard optimization problem. It means that we currently don't have any polynomial-time algorithm for this problem, and we will most likely never have such an algorithm unless $P = NP$. Therefore it is reasonable to use optimization algorithms like local search to find an approximate but not necessarily perfect answer."
   ]
  },
  {
   "cell_type": "markdown",
   "metadata": {},
   "source": [
    "In this question and the next one, you should implement two different local search techniques to solve this problem: Simulated Annealing for this question and the Genetic Algorithm for the next one."
   ]
  },
  {
   "cell_type": "markdown",
   "metadata": {},
   "source": [
    "In this problem, we provide you some of the functions to solve the problem. Some of them are complete, but some are incomplete, and you should complete them."
   ]
  },
  {
   "cell_type": "markdown",
   "metadata": {},
   "source": [
    "## Libraries"
   ]
  },
  {
   "cell_type": "code",
   "execution_count": null,
   "metadata": {
    "execution": {
     "iopub.execute_input": "2021-10-01T16:01:11.557956Z",
     "iopub.status.busy": "2021-10-01T16:01:11.556447Z",
     "iopub.status.idle": "2021-10-01T16:01:11.747409Z",
     "shell.execute_reply": "2021-10-01T16:01:11.746914Z"
    }
   },
   "outputs": [],
   "source": [
    "import numpy as np\n",
    "from math import exp\n",
    "import random\n",
    "import matplotlib.pyplot as plt\n",
    "import math"
   ]
  },
  {
   "cell_type": "markdown",
   "metadata": {},
   "source": [
    "## Graph Data\n",
    "There is a file named **create_graph.py** beside this jupyter notebook. You can generate multiple types of networks by running the file using the syntax below. It is **not** mandatory and does not have any additional score. It is just for you to test your code to see whether it works or not.\n",
    "```\n",
    "python create_graph.py\n",
    "```\n",
    "Make sure that you have the dependencies installed, especially networkx version: 2.5.1+. You can use `pip`  to install the newest version of networkx using\n",
    "```\n",
    "pip install networkx\n",
    "```\n",
    "Also, you may want to change variables m2n and n in `create_graph.py`.\n",
    "\n",
    "n is the number of nodes. m2n is roughly equal to the number of edges divided by the number of nodes.\n",
    " "
   ]
  },
  {
   "cell_type": "markdown",
   "metadata": {},
   "source": [
    "## Reading graph data"
   ]
  },
  {
   "cell_type": "markdown",
   "metadata": {},
   "source": [
    "We provide graph data in '.txt' files as an adjacency matrix. The first line indicates $n$, the number of vertices. The following $n$ lines each contain $n$ comma-separated numbers. Consider $d_{ij}$ to be the number in $i$th row and $j$th column. It is $1$ if and only if there is an edge between node $i$ and $j$, and $0$ otherwise. The function is provided completely for your comfort, and you don't need to change it."
   ]
  },
  {
   "cell_type": "code",
   "execution_count": null,
   "metadata": {
    "execution": {
     "iopub.execute_input": "2021-10-01T16:01:11.773963Z",
     "iopub.status.busy": "2021-10-01T16:01:11.773120Z",
     "iopub.status.idle": "2021-10-01T16:01:11.830269Z",
     "shell.execute_reply": "2021-10-01T16:01:11.829966Z"
    }
   },
   "outputs": [],
   "source": [
    "\"\"\"\n",
    "No need to change this cell. You can change \"./Inputs/test-q3-q4.txt\" to test different graphs.\n",
    "\"\"\"\n",
    "\n",
    "graph_matrix =[]\n",
    "def load_data(path = \"./Inputs/test-q3-q4.txt\"):\n",
    "    with  open(path , 'r') as f:\n",
    "        lines = f.readlines()\n",
    "        number_of_vertices = int(lines[0])\n",
    "        for i in range(number_of_vertices):\n",
    "            line_split = lines[i+1].split(',');\n",
    "            graph_matrix.append([])\n",
    "            for j in range(number_of_vertices):\n",
    "                graph_matrix[i].append(int(line_split[j]))\n",
    "load_data()"
   ]
  },
  {
   "cell_type": "markdown",
   "metadata": {},
   "source": [
    "## Edge Count"
   ]
  },
  {
   "cell_type": "markdown",
   "metadata": {},
   "source": [
    "Complete the following line to find out the number of graphs edges from its adjacency matrix. It can be done in one line using NumPy."
   ]
  },
  {
   "cell_type": "code",
   "execution_count": null,
   "metadata": {
    "collectable": true,
    "execution": {
     "iopub.execute_input": "2021-10-01T16:01:11.845894Z",
     "iopub.status.busy": "2021-10-01T16:01:11.845501Z",
     "iopub.status.idle": "2021-10-01T16:01:11.847994Z",
     "shell.execute_reply": "2021-10-01T16:01:11.847668Z"
    }
   },
   "outputs": [],
   "source": [
    "edge_count = # Complete This (1 Points)\n",
    "print(edge_count)"
   ]
  },
  {
   "cell_type": "markdown",
   "metadata": {},
   "source": [
    "## State"
   ]
  },
  {
   "cell_type": "markdown",
   "metadata": {},
   "source": [
    "To use local search algorithms, we must define our state-space. As the problem is about choosing a vertex or not, we define each state as a vector $S$ of size $n$. \n",
    "\n",
    "$$\n",
    "S_i=   \\left\\{\n",
    "\\begin{array}{ll}\n",
    "      0 & \\text{vertex $v_i$ is not in vertex cover} \\\\\n",
    "      1 & \\text{vertex $v_i$ is in vertex cover}\n",
    "\\end{array} \n",
    "\\right.\n",
    "$$"
   ]
  },
  {
   "cell_type": "markdown",
   "metadata": {},
   "source": [
    "Write a function that generates a random state. i.e., it must return a boolean vector of size $n$."
   ]
  },
  {
   "cell_type": "code",
   "execution_count": null,
   "metadata": {
    "collectable": true,
    "execution": {
     "iopub.execute_input": "2021-10-01T16:01:11.850394Z",
     "iopub.status.busy": "2021-10-01T16:01:11.850091Z",
     "iopub.status.idle": "2021-10-01T16:01:11.852019Z",
     "shell.execute_reply": "2021-10-01T16:01:11.851706Z"
    }
   },
   "outputs": [],
   "source": [
    "def random_state_generator(n):\n",
    "    ##################################################################\n",
    "    # (1 Points)                                                     #\n",
    "    # This function get input n, number of edges                     #\n",
    "    # and generates and returns a random boolean vector (list)       #\n",
    "    # as described above                                             #\n",
    "    ##################################################################\n",
    "    pass"
   ]
  },
  {
   "cell_type": "markdown",
   "metadata": {},
   "source": [
    "We must also define the neighbor state. We can use multiple definitions for neighbor states, But here we use a simple one. Two states are neighbors if and only if they differ in just one element. Complete the following function, which gets a state and returns a new state by randomly choosing one element in the previous state and changing it from $0$ to $1$ or $1$ to $0$.\n",
    "\n",
    "It is strongly recommended that you return the index of the changed element and its value, as you will likely need that later."
   ]
  },
  {
   "cell_type": "code",
   "execution_count": null,
   "metadata": {
    "collectable": true,
    "execution": {
     "iopub.execute_input": "2021-10-01T16:01:11.855751Z",
     "iopub.status.busy": "2021-10-01T16:01:11.855445Z",
     "iopub.status.idle": "2021-10-01T16:01:11.857199Z",
     "shell.execute_reply": "2021-10-01T16:01:11.856886Z"
    }
   },
   "outputs": [],
   "source": [
    "def neighbour_state_generator(state):\n",
    "    new_state = state.copy()\n",
    "    ##################################################################\n",
    "    # (2 Points)                                                     #\n",
    "    # This function gets a list state,                               #\n",
    "    # and generates and returns:                                     #\n",
    "    # 1. a new neighbour state                                       #\n",
    "    # 2. previous value of the list element that changed             #\n",
    "    # 3. the index of the value that changed                         #\n",
    "    ##################################################################\n",
    "    previous_value = None\n",
    "    vertex_to_change = None\n",
    "    return new_state, previous_value, vertex_to_change"
   ]
  },
  {
   "cell_type": "markdown",
   "metadata": {},
   "source": [
    "## Cost Function"
   ]
  },
  {
   "cell_type": "markdown",
   "metadata": {},
   "source": [
    "We must also define a cost function to evaluate each state. There are many ways to define a cost function for the vertex cover problem. Here we propose a cost function that works well with the problem. You could use other cost functions if you believe they work better. \n",
    "\n",
    "Our Proposed cost function is:\n",
    "\n",
    "$C(s)=A*\\sum_{i=1}^{n} s_{i}+ B*\\sum_{i=1}^{n} \\sum_{j=1}^{n} \\mathrm{~d}_{i j} \\overline{s_{i} \\vee s_{j}}$\n",
    "\n",
    "Here, $s_i$ is the $i\\text{th}$ element of state vector. $\\overline{s_{i} \\vee s_{j}}$ is logical NOR of $v_i$ and $v_j$.\n",
    "\n",
    "$A$ and $B$ are two arbitrary constants. Usually $A=1$ and $B=1$, but you could use other values.\n",
    "\n",
    "Note that the formula above uses a 1-based index as a mathematical equation, but Python uses a 0-based index."
   ]
  },
  {
   "cell_type": "code",
   "execution_count": null,
   "metadata": {
    "collectable": true,
    "execution": {
     "iopub.execute_input": "2021-10-01T16:01:11.860087Z",
     "iopub.status.busy": "2021-10-01T16:01:11.859785Z",
     "iopub.status.idle": "2021-10-01T16:01:11.861494Z",
     "shell.execute_reply": "2021-10-01T16:01:11.861185Z"
    }
   },
   "outputs": [],
   "source": [
    "def cost_function(graph_matrix,state , A = 1 , B=1):\n",
    "    ##################################################################\n",
    "    # (2 Points)                                                     #\n",
    "    # This function gets a state and graph matrix,                   #\n",
    "    # and two optional coefficients A and B,                         #\n",
    "    # and calculates the cost of this state                          #\n",
    "    ##################################################################\n",
    "    pass"
   ]
  },
  {
   "cell_type": "markdown",
   "metadata": {},
   "source": [
    "## Simulated Annealing"
   ]
  },
  {
   "cell_type": "markdown",
   "metadata": {},
   "source": [
    "Now comes the central part. Simulated annealing is somehow like normal hill-climbing, but with a small but significant change. In each iteration of Simulated Annealing, we calculate the cost of this new state after generating a neighbor state. If it is better than the current state, we accept it and use it as the new current state. But if it is worse than the current state, we calculate an acceptance probability and accept it based on this probability.\n",
    "\n",
    "Usually, $P = e^{-\\frac{\\Delta C}{T}}$ is used for acceptance probability, in which $\\Delta C$ is the cost difference between the new state and previous state. $T$ is a positive parameter called Temperature. At first, it is initialized based on the problem domain. After each iteration, it is multiplied by a factor of $\\alpha<1$ to make it smaller. The point of using $T$ is to allow more random perturbations at the start of the algorithm to prevent getting stuck in a local extremum.\n",
    "\n",
    "For the vertex cover problem, there exist better acceptance probability equations. We consider one here, but you are free to use other equation.\n",
    "\n",
    "\n"
   ]
  },
  {
   "cell_type": "markdown",
   "metadata": {},
   "source": [
    "### Vertex Cover Probability Acceptance Equation"
   ]
  },
  {
   "cell_type": "markdown",
   "metadata": {},
   "source": [
    "Let $s$ be current state and $s'$ be a neighbour state that has worse cost function that $s$. Also suppose that only $i$th element is different between $s$ and $s'$. For calculating acceptance probability of $s'$ we use this equation: \n",
    "\n",
    "\n",
    "$$p= \\begin{cases}\\mathrm{e}^{-\\frac{\\Delta F\\left(1-D e g\\left(s_{i}\\right)\\right)}{T}} & s_{i}=1 \\\\ \\mathrm{e}^{-\\frac{\\Delta F\\left(1+D e g\\left(s_{i}\\right)\\right)}{T}} & s_{i}=0\\end{cases}$$\n",
    "in which\n",
    "$$\\operatorname{Deg}\\left({i}\\right)=\\frac{\\operatorname{Degree}(i)}{E d g e N u m}$$\n",
    "\n",
    "Note that $Deg(s_i)$ is actually independent of state and can be calculated beforehand for each vertex."
   ]
  },
  {
   "cell_type": "markdown",
   "metadata": {},
   "source": [
    "Complete the line bellow the make an array named 'deg', in which $i$th element corresponds to $Deg(i)$"
   ]
  },
  {
   "cell_type": "code",
   "execution_count": null,
   "metadata": {
    "collectable": true,
    "execution": {
     "iopub.execute_input": "2021-10-01T16:01:11.876774Z",
     "iopub.status.busy": "2021-10-01T16:01:11.876430Z",
     "iopub.status.idle": "2021-10-01T16:01:11.878325Z",
     "shell.execute_reply": "2021-10-01T16:01:11.878008Z"
    },
    "scrolled": true
   },
   "outputs": [],
   "source": [
    "deg = #Complete This (2 Points)"
   ]
  },
  {
   "cell_type": "markdown",
   "metadata": {},
   "source": [
    "Now complete the function 'prob_accept' that gets current and next state costs and other related information and returns the probability of acceptance of the next state."
   ]
  },
  {
   "cell_type": "code",
   "execution_count": null,
   "metadata": {
    "collectable": true,
    "execution": {
     "iopub.execute_input": "2021-10-01T16:01:11.881244Z",
     "iopub.status.busy": "2021-10-01T16:01:11.880931Z",
     "iopub.status.idle": "2021-10-01T16:01:11.882621Z",
     "shell.execute_reply": "2021-10-01T16:01:11.882303Z"
    }
   },
   "outputs": [],
   "source": [
    "def prob_accept(...): \n",
    "    ##################################################################\n",
    "    # (3 Points)                                                     #\n",
    "    # This function is going to calculate the acceptance probability #\n",
    "    # Feel free to Pass any parameters needed.                       #\n",
    "    ##################################################################\n",
    "    pass"
   ]
  },
  {
   "cell_type": "markdown",
   "metadata": {},
   "source": [
    "Now Implement a function called 'accept'. This function gets the current state and next state and other required parameters as input and outputs True or False to identify whether we should accept the next state or not."
   ]
  },
  {
   "cell_type": "code",
   "execution_count": null,
   "metadata": {
    "collectable": true,
    "execution": {
     "iopub.execute_input": "2021-10-01T16:01:11.885496Z",
     "iopub.status.busy": "2021-10-01T16:01:11.885184Z",
     "iopub.status.idle": "2021-10-01T16:01:11.886861Z",
     "shell.execute_reply": "2021-10-01T16:01:11.886539Z"
    }
   },
   "outputs": [],
   "source": [
    "def accept(current_state , next_state , ...):\n",
    "    #################################################################################\n",
    "    # (5 Points)                                                                    #\n",
    "    # This function gest current and probable next state and                        #\n",
    "    # other neccessary parameters and returns                                       #\n",
    "    # True or False to indicate whether we should accept the next state or not      #\n",
    "    #################################################################################\n",
    "    pass"
   ]
  },
  {
   "cell_type": "markdown",
   "metadata": {},
   "source": [
    "Now Implement the main 'anneal' function that performs the algorithm. Try to experiment with different initial T and $alpha$ values to get the best result. Also, your function must implement these two stop criteria:\n",
    "\n",
    "- If the number of iterations exceeded 'stopping_iter', stop.\n",
    "- If the temperature drops below 'stopping_temprature', stop.\n",
    "\n",
    "Also, the cost_list array is defined before the function. Append the cost of the best solution found after each iteration to this array. Also, print out the best solution and the best cost obtained."
   ]
  },
  {
   "cell_type": "code",
   "execution_count": null,
   "metadata": {
    "execution": {
     "iopub.execute_input": "2021-10-01T16:01:11.890951Z",
     "iopub.status.busy": "2021-10-01T16:01:11.890625Z",
     "iopub.status.idle": "2021-10-01T16:01:11.892373Z",
     "shell.execute_reply": "2021-10-01T16:01:11.892053Z"
    }
   },
   "outputs": [],
   "source": [
    "cost_list = []\n",
    "\n",
    "\n",
    "def anneal(\n",
    "    graph_matrix, stopping_temperature=1e-8, stopping_iter=2000, alpha=0.99, T=50\n",
    "):\n",
    "    ###################################################################\n",
    "    # (8 Points)                                                      #\n",
    "    # Main Function. It gets the matrix, stopping tempratue,          #\n",
    "    # stopping iteration count, alpha and tempratue                   #\n",
    "    # And run the main algorithm. It should fill the cost list array  #\n",
    "    # and also return the best solution and best cost                 #\n",
    "    ###################################################################\n",
    "    best_solution = None\n",
    "    best_cost = None\n",
    "    return best_solution, best_cost"
   ]
  },
  {
   "cell_type": "code",
   "execution_count": null,
   "metadata": {
    "execution": {
     "iopub.execute_input": "2021-10-01T16:01:11.965399Z",
     "iopub.status.busy": "2021-10-01T16:01:11.929755Z",
     "iopub.status.idle": "2021-10-01T16:01:12.537930Z",
     "shell.execute_reply": "2021-10-01T16:01:12.537599Z"
    }
   },
   "outputs": [],
   "source": [
    "best_sol_SA, best_cost_SA = anneal(\n",
    "    graph_matrix,\n",
    ")"
   ]
  },
  {
   "cell_type": "code",
   "execution_count": null,
   "metadata": {
    "execution": {
     "iopub.execute_input": "2021-10-01T16:01:12.542154Z",
     "iopub.status.busy": "2021-10-01T16:01:12.541828Z",
     "iopub.status.idle": "2021-10-01T16:01:12.543769Z",
     "shell.execute_reply": "2021-10-01T16:01:12.543444Z"
    },
    "scrolled": true
   },
   "outputs": [],
   "source": [
    "best_sol_SA"
   ]
  },
  {
   "cell_type": "markdown",
   "metadata": {},
   "source": [
    "Plot the cost vs. iteration graph."
   ]
  },
  {
   "cell_type": "code",
   "execution_count": null,
   "metadata": {
    "collectable": true,
    "execution": {
     "iopub.execute_input": "2021-10-01T16:01:12.554088Z",
     "iopub.status.busy": "2021-10-01T16:01:12.553664Z",
     "iopub.status.idle": "2021-10-01T16:01:12.646984Z",
     "shell.execute_reply": "2021-10-01T16:01:12.646640Z"
    }
   },
   "outputs": [],
   "source": [
    "def plot_cost(cost_list):\n",
    "    ###################################################################\n",
    "    # (1 Points)                                                      #\n",
    "    # This functions gets the cost_list array and plot                #\n",
    "    # cost vs. iteration                                              #\n",
    "    ###################################################################\n",
    "    pass\n",
    "\n",
    "plot_cost(cost_list)"
   ]
  },
  {
   "cell_type": "markdown",
   "metadata": {},
   "source": [
    "# Q4 (25 Points)"
   ]
  },
  {
   "cell_type": "markdown",
   "metadata": {},
   "source": [
    "<font size=4>\n",
    "Authors: Amirmahdi Namjoo, Sajjad Faghfoor Maghrebi\n",
    "\t\t\t<br/>\n",
    "                <font color=red>\n",
    "Please run all the cells.\n",
    "     </font>\n",
    "</font>\n",
    "                <br/>\n",
    "    </div>"
   ]
  },
  {
   "cell_type": "code",
   "execution_count": null,
   "metadata": {
    "collectable": true
   },
   "outputs": [],
   "source": [
    "# place for your custom functions for Q4 here"
   ]
  },
  {
   "cell_type": "markdown",
   "metadata": {},
   "source": [
    "In this problem, we will tackle the vertex cover problem with a genetic algorithm. Cost function and state-space representation will be the same as the previous question. "
   ]
  },
  {
   "cell_type": "markdown",
   "metadata": {},
   "source": [
    "## Population Generation\n",
    "\n",
    "The first step of the genetic algorithm is to generate an initial population of different states (chromosomes).\n",
    "\n",
    "Complete the following function. It must generate a population of size $k$ for a graph with $n$ vertices."
   ]
  },
  {
   "cell_type": "code",
   "execution_count": null,
   "metadata": {
    "collectable": true,
    "execution": {
     "iopub.execute_input": "2021-10-01T16:01:12.649651Z",
     "iopub.status.busy": "2021-10-01T16:01:12.649332Z",
     "iopub.status.idle": "2021-10-01T16:01:12.650895Z",
     "shell.execute_reply": "2021-10-01T16:01:12.651148Z"
    }
   },
   "outputs": [],
   "source": [
    "def population_generation(n, k): \n",
    "    ###################################################################\n",
    "    # (1 Points)                                                      #\n",
    "    # Returns a population of size k for a graph with n vertices      #\n",
    "    ###################################################################\n",
    "    pass"
   ]
  },
  {
   "cell_type": "markdown",
   "metadata": {},
   "source": [
    "## Cost Function\n",
    "\n",
    "For cost function, we use another, more simple formula for this problem. Because the Genetic algorithm tends to run much longer than simulated annealing, we prefer to use a more simple cost function for this problem.\n",
    "\n",
    "The cost function for this problem is as follows:\n",
    "- Add 1 to the cost for each vertex in the answer\n",
    "- Add 5 (or any other number you prefer) to the cost for each edge that is not covered."
   ]
  },
  {
   "cell_type": "code",
   "execution_count": null,
   "metadata": {
    "collectable": true
   },
   "outputs": [],
   "source": [
    "def cost_function2(graph,state):\n",
    "    ##################################################################\n",
    "    # (1 Points)                                                     #\n",
    "    # This function gets a state and graph matrix,                   #\n",
    "    # and calculates the cost of this state                          #\n",
    "    ##################################################################\n",
    "    pass"
   ]
  },
  {
   "cell_type": "markdown",
   "metadata": {},
   "source": [
    "## Selection\n",
    "\n",
    "\n",
    "We select the best chromosomes (states) in the selection phase and allow them to pass to the next generation (iteration). Others will be discarded.\n",
    "\n",
    "For this part, we use a procedure named \"tournament selection.\" In this procedure, we divide 'the population into two parts and' match each element in population with another one and compare their cost. The winner is the one that has a lower cost, and it gets selected for the next part, and the others are discarded."
   ]
  },
  {
   "cell_type": "code",
   "execution_count": null,
   "metadata": {
    "collectable": true,
    "execution": {
     "iopub.execute_input": "2021-10-01T16:01:12.654554Z",
     "iopub.status.busy": "2021-10-01T16:01:12.654249Z",
     "iopub.status.idle": "2021-10-01T16:01:12.655998Z",
     "shell.execute_reply": "2021-10-01T16:01:12.655682Z"
    }
   },
   "outputs": [],
   "source": [
    "def tournament_selection(graph, population):\n",
    "    ##################################################################\n",
    "    # (5 Points)                                                     #\n",
    "    # This function gets the population and graph matrix,            #\n",
    "    # and generates and returns a new population using               #\n",
    "    # tournament selection                                           #\n",
    "    ##################################################################\n",
    "    new_population = None\n",
    "    return new_population"
   ]
  },
  {
   "cell_type": "markdown",
   "metadata": {},
   "source": [
    "## Crossover"
   ]
  },
  {
   "cell_type": "markdown",
   "metadata": {},
   "source": [
    "In the crossover phase, we combine two chromosomes to get a better chromosome (solution). There are lots of ways to implement crossover. For this problem, we propose this method:\n",
    "\n",
    "Take two chromosomes as input. Generate a random 'index'. The resulting chromosome consists of genes from chromosome1 from 0 up until 'index' and genes from chromosome2 from 'index+1' until the end. Another chromosome is generated by swapping chromosome1 and chromosome2 and doint the same procedure. "
   ]
  },
  {
   "cell_type": "code",
   "execution_count": null,
   "metadata": {
    "collectable": true
   },
   "outputs": [],
   "source": [
    "def crossover(graph, parent1, parent2):\n",
    "    ##################################################################\n",
    "    # (5 Points)                                                     #\n",
    "    # This function gets the graph matrix and two parents            #\n",
    "    # and generates and returns two new childs using crossover       #\n",
    "    ##################################################################\n",
    "    child1 = None\n",
    "    child2 = None\n",
    "    return child1, child2"
   ]
  },
  {
   "cell_type": "markdown",
   "metadata": {},
   "source": [
    "## Mutation"
   ]
  },
  {
   "cell_type": "markdown",
   "metadata": {},
   "source": [
    "In the mutation part of this problem, we take chromosomes coming out of Crossover and change them slightly in the hope of getting better. There are many ways to implement mutation. We propose two methods here. You can implement each one of them or even both.\n",
    "\n",
    "For this part, we generate a random number. If this number is greater than the mutation probability, we choose a random index in the chromosome and change it from '0' to '1' or '1' to '0'."
   ]
  },
  {
   "cell_type": "code",
   "execution_count": null,
   "metadata": {
    "collectable": true
   },
   "outputs": [],
   "source": [
    "def mutation(graph,chromosme,probability):\n",
    "    ##################################################################\n",
    "    # (5 Points)                                                     #\n",
    "    # This function gets the  graph matrix, chromosome, and          #\n",
    "    # mutation probabiltiy and generate a new chromosome using       #\n",
    "    # mutation                                                       #\n",
    "    ##################################################################\n",
    "    pass"
   ]
  },
  {
   "cell_type": "markdown",
   "metadata": {},
   "source": [
    "## Main Algorithm\n",
    "\n",
    "Now implement the main 'genetic_algorithm' function."
   ]
  },
  {
   "cell_type": "code",
   "execution_count": null,
   "metadata": {
    "collectable": true,
    "execution": {
     "iopub.execute_input": "2021-10-01T16:01:12.669076Z",
     "iopub.status.busy": "2021-10-01T16:01:12.668757Z",
     "iopub.status.idle": "2021-10-01T16:01:12.670566Z",
     "shell.execute_reply": "2021-10-01T16:01:12.670252Z"
    }
   },
   "outputs": [],
   "source": [
    "def genetic_algorithm(graph_matrix,mutation_probability=0.1,pop_size=100,max_generation=100):\n",
    "    ###################################################################################\n",
    "    # (8 Points)                                                                      #\n",
    "    # The main genetic algorithm function                                             #\n",
    "    # it gets graph matrix as mandatory input and                                     #\n",
    "    # mutation probability, population size and maximum generation as optional input  #\n",
    "    # And runs the algorithm and returns the best solution and best cost              #\n",
    "    ###################################################################################\n",
    "    best_cost = None\n",
    "    best_solution = None\n",
    "    return best_cost,best_solution"
   ]
  },
  {
   "cell_type": "code",
   "execution_count": null,
   "metadata": {
    "execution": {
     "iopub.execute_input": "2021-10-01T16:01:12.672705Z",
     "iopub.status.busy": "2021-10-01T16:01:12.672403Z",
     "iopub.status.idle": "2021-10-01T16:01:36.760222Z",
     "shell.execute_reply": "2021-10-01T16:01:36.759945Z"
    }
   },
   "outputs": [],
   "source": [
    "best_cost_GA, best_sol_GA = genetic_algorithm(graph_matrix)"
   ]
  },
  {
   "cell_type": "markdown",
   "metadata": {},
   "source": [
    "## Run Tests (not for you)"
   ]
  },
  {
   "cell_type": "code",
   "execution_count": null,
   "metadata": {
    "execution": {
     "iopub.execute_input": "2021-10-01T16:01:36.768478Z",
     "iopub.status.busy": "2021-10-01T16:01:36.768062Z",
     "iopub.status.idle": "2021-10-01T16:01:36.769915Z",
     "shell.execute_reply": "2021-10-01T16:01:36.770202Z"
    }
   },
   "outputs": [],
   "source": [
    "# Do not change this cell. (Your answers won't be graded)\n",
    "# Do not run this cell.\n",
    "import os\n",
    "import json\n",
    "\n",
    "directory = \"./../tests4VC/\"\n",
    "for filename in os.listdir(directory):\n",
    "    print(filename)\n",
    "    graph_matrix = []\n",
    "    load_data(path=directory + filename)\n",
    "\n",
    "    cost_list = []\n",
    "    best_cost_GA, best_sol_GA = genetic_algorithm(graph_matrix)\n",
    "    best_sol_SA, best_cost_SA = anneal(\n",
    "        graph_matrix,\n",
    "    )\n",
    "\n",
    "    result_ga = {\n",
    "        \"ga_cost_\" + filename: int(best_cost_GA),\n",
    "        \"ga_sol_\" + filename: list(map(int, best_sol_GA)),\n",
    "    }\n",
    "\n",
    "    result_sa = {\n",
    "        \"sa_cost_\" + filename: int(best_cost_SA),\n",
    "        \"sa_sol_\" + filename: list(map(int, best_sol_SA)),\n",
    "    }\n",
    "\n",
    "file_path = os.path.join(\n",
    "    os.getenv(\"OUTPUT_DIR\", \"..\"), \"{}.json\".format(student_number)\n",
    ")\n",
    "\n",
    "with open(file_path, \"w\") as file:\n",
    "    json.dump(\n",
    "        {\n",
    "            \"ga\": result_ga,\n",
    "            \"sa\": result_sa,\n",
    "        },\n",
    "        file,\n",
    "    )"
   ]
  }
 ],
 "metadata": {
  "interpreter": {
   "hash": "82c96dac82df011951012bc3a10b9a8818dd170c01462aefa4112a951903f0fe"
  },
  "kernelspec": {
   "display_name": "Python 3.10.0 64-bit",
   "name": "python3"
  },
  "language_info": {
   "codemirror_mode": {
    "name": "ipython",
    "version": 3
   },
   "file_extension": ".py",
   "mimetype": "text/x-python",
   "name": "python",
   "nbconvert_exporter": "python",
   "pygments_lexer": "ipython3",
   "version": "3.10.0"
  }
 },
 "nbformat": 4,
 "nbformat_minor": 4
}
