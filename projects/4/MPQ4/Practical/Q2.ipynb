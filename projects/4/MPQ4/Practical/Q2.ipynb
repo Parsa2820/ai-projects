{
  "cells": [
    {
      "cell_type": "code",
      "source": [
        "from google.colab import drive\n",
        "drive.mount('/content/drive')\n",
        "\n",
        "address = \"University/AI/projects/4/MPQ4/Practical\"\n",
        "import sys\n",
        "sys.path.append('/content/drive/My Drive/{}'.format(address))\n",
        "\n",
        "%cd /content/drive/My\\ Drive/$address"
      ],
      "metadata": {
        "colab": {
          "base_uri": "https://localhost:8080/"
        },
        "id": "cgahSRF9Lq2B",
        "outputId": "896a0263-4e7d-4ffb-bc8b-9fe8d90ccdc9"
      },
      "execution_count": 1,
      "outputs": [
        {
          "output_type": "stream",
          "name": "stdout",
          "text": [
            "Mounted at /content/drive\n",
            "/content/drive/My Drive/University/AI/projects/4/MPQ4/Practical\n"
          ]
        }
      ]
    },
    {
      "cell_type": "markdown",
      "metadata": {
        "id": "d98O4vjubJ3j"
      },
      "source": [
        "<div align=center>\n",
        "\t\t\n",
        "<p></p>\n",
        "<p></p>\n",
        "<font size=5>\n",
        "In the Name of God\n",
        "<font/>\n",
        "<p></p>\n",
        " <br/>\n",
        "    <br/>\n",
        "    <br/>\n",
        "<font color=#FF7500>\n",
        "Sharif University of Technology - Departmenet of Computer Engineering\n",
        "</font>\n",
        "<p></p>\n",
        "<font color=blue>\n",
        "Artifical Intelligence - Dr. Mohammad Hossein Rohban\n",
        "</font>\n",
        "<br/>\n",
        "<br/>\n",
        "Fall 2021\n",
        "\n",
        "</div>\n",
        "\n",
        "<hr/>\n",
        "\t\t<div align=center>\n",
        "\t\t    <font color=red size=6>\n",
        "\t\t\t    <br />\n",
        "Practical Assignment 4 Pytorch Classification\n",
        "            \t<br/>\n",
        "\t\t\t</font>\n",
        "    <br/>\n",
        "    <br/>\n",
        "<font size=4>\n",
        "                <br/><b>\n",
        "              Cheating is Strongly Prohibited\n",
        "                </b><br/><br/>\n",
        "                <font color=red>\n",
        "Please run all the cells.\n",
        "     </font>\n",
        "</font>\n",
        "                <br/>\n",
        "    </div>"
      ]
    },
    {
      "cell_type": "markdown",
      "metadata": {
        "id": "Vc56RQq_bJ3p"
      },
      "source": [
        "# Personal Data"
      ]
    },
    {
      "cell_type": "code",
      "execution_count": 2,
      "metadata": {
        "collectable": true,
        "execution": {
          "iopub.execute_input": "2021-10-01T16:01:36.762477Z",
          "iopub.status.busy": "2021-10-01T16:01:36.762155Z",
          "iopub.status.idle": "2021-10-01T16:01:36.764025Z",
          "shell.execute_reply": "2021-10-01T16:01:36.763754Z"
        },
        "id": "tODT3Ai9bJ3q"
      },
      "outputs": [],
      "source": [
        "# Set your student number\n",
        "student_number = 98102284\n",
        "Name = 'Parsa'\n",
        "Last_Name = 'Mohammadian'"
      ]
    },
    {
      "cell_type": "markdown",
      "metadata": {
        "id": "j36cYwxIbJ3r"
      },
      "source": [
        "# Rules\n",
        "- You **are** allowed to add or remove cells. \n",
        "- By running the cell below, you can see if your jupyter file is accepted or not. This cell will also **generate a python file which you'll have to upload to Quera** (as well as your jupyter file). The python file will later be validated and if the code in both files doesn't match, **your Practical Assignment won't be graded**."
      ]
    },
    {
      "cell_type": "code",
      "execution_count": 3,
      "metadata": {
        "id": "MxF-SCt7bJ3s",
        "colab": {
          "base_uri": "https://localhost:8080/",
          "height": 536
        },
        "outputId": "ae55fda1-4454-4fd8-86fd-38288d6c8991"
      },
      "outputs": [
        {
          "output_type": "error",
          "ename": "ImportError",
          "evalue": "ignored",
          "traceback": [
            "\u001b[0;31m---------------------------------------------------------------------------\u001b[0m",
            "\u001b[0;31mImportError\u001b[0m                               Traceback (most recent call last)",
            "\u001b[0;32m<ipython-input-3-01e450841361>\u001b[0m in \u001b[0;36m<module>\u001b[0;34m()\u001b[0m\n\u001b[1;32m      1\u001b[0m \u001b[0;31m# remember to save your jupyter file before running this script\u001b[0m\u001b[0;34m\u001b[0m\u001b[0;34m\u001b[0m\u001b[0;34m\u001b[0m\u001b[0m\n\u001b[0;32m----> 2\u001b[0;31m \u001b[0;32mfrom\u001b[0m \u001b[0mHelper_codes\u001b[0m\u001b[0;34m.\u001b[0m\u001b[0mvalidator\u001b[0m \u001b[0;32mimport\u001b[0m \u001b[0;34m*\u001b[0m\u001b[0;34m\u001b[0m\u001b[0;34m\u001b[0m\u001b[0m\n\u001b[0m\u001b[1;32m      3\u001b[0m \u001b[0;34m\u001b[0m\u001b[0m\n\u001b[1;32m      4\u001b[0m \u001b[0mpython_code\u001b[0m \u001b[0;34m=\u001b[0m \u001b[0mextract_python\u001b[0m\u001b[0;34m(\u001b[0m\u001b[0;34m\"./Q2.ipynb\"\u001b[0m\u001b[0;34m)\u001b[0m\u001b[0;34m\u001b[0m\u001b[0;34m\u001b[0m\u001b[0m\n\u001b[1;32m      5\u001b[0m \u001b[0;32mwith\u001b[0m \u001b[0mopen\u001b[0m\u001b[0;34m(\u001b[0m\u001b[0;34mf'python_code_Q2_{student_number}.py'\u001b[0m\u001b[0;34m,\u001b[0m \u001b[0;34m'w'\u001b[0m\u001b[0;34m)\u001b[0m \u001b[0;32mas\u001b[0m \u001b[0mfile\u001b[0m\u001b[0;34m:\u001b[0m\u001b[0;34m\u001b[0m\u001b[0;34m\u001b[0m\u001b[0m\n",
            "\u001b[0;32m/content/drive/My Drive/University/AI/projects/4/MPQ4/Practical/Helper_codes/validator.py\u001b[0m in \u001b[0;36m<module>\u001b[0;34m()\u001b[0m\n\u001b[1;32m      1\u001b[0m \u001b[0;32mimport\u001b[0m \u001b[0mjson\u001b[0m\u001b[0;34m\u001b[0m\u001b[0;34m\u001b[0m\u001b[0m\n\u001b[0;32m----> 2\u001b[0;31m \u001b[0;32mfrom\u001b[0m \u001b[0mtypes\u001b[0m \u001b[0;32mimport\u001b[0m \u001b[0mCellType\u001b[0m\u001b[0;34m\u001b[0m\u001b[0;34m\u001b[0m\u001b[0m\n\u001b[0m\u001b[1;32m      3\u001b[0m \u001b[0;32mimport\u001b[0m \u001b[0mre\u001b[0m\u001b[0;34m\u001b[0m\u001b[0;34m\u001b[0m\u001b[0m\n\u001b[1;32m      4\u001b[0m \u001b[0;34m\u001b[0m\u001b[0m\n\u001b[1;32m      5\u001b[0m \u001b[0;34m\u001b[0m\u001b[0m\n",
            "\u001b[0;31mImportError\u001b[0m: cannot import name 'CellType' from 'types' (/usr/lib/python3.7/types.py)",
            "",
            "\u001b[0;31m---------------------------------------------------------------------------\u001b[0;32m\nNOTE: If your import is failing due to a missing package, you can\nmanually install dependencies using either !pip or !apt.\n\nTo view examples of installing some common dependencies, click the\n\"Open Examples\" button below.\n\u001b[0;31m---------------------------------------------------------------------------\u001b[0m\n"
          ],
          "errorDetails": {
            "actions": [
              {
                "action": "open_url",
                "actionText": "Open Examples",
                "url": "/notebooks/snippets/importing_libraries.ipynb"
              }
            ]
          }
        }
      ],
      "source": [
        "# remember to save your jupyter file before running this script\n",
        "from Helper_codes.validator import *\n",
        "\n",
        "python_code = extract_python(\"./Q2.ipynb\")\n",
        "with open(f'python_code_Q2_{student_number}.py', 'w') as file:\n",
        "    file.write(python_code)"
      ]
    },
    {
      "cell_type": "markdown",
      "metadata": {
        "id": "Fa1McbDhbJ3s"
      },
      "source": [
        "# PyTorch & MNIST Classification (50 points+5 Extra)"
      ]
    },
    {
      "cell_type": "markdown",
      "metadata": {
        "id": "sSeuI5X2bJ3t"
      },
      "source": [
        "<font size=4>\n",
        "Author: Arman Zarei\n",
        "\t\t\t<br/>\n",
        "                <font color=red>\n",
        "Please run all the cells.\n",
        "     </font>\n",
        "</font>\n",
        "                <br/>\n",
        "    </div>"
      ]
    },
    {
      "cell_type": "markdown",
      "metadata": {
        "id": "hpgcA5aVbhvr"
      },
      "source": [
        "In this assignment, you are going to learn the fundamentals of PyTorch and implement a classifier network for MNIST dataset. You can read about more details of PyTorch components from [this link](https://pytorch.org/tutorials)."
      ]
    },
    {
      "cell_type": "markdown",
      "metadata": {
        "id": "eWerEtmwcjDW"
      },
      "source": [
        "### Setup"
      ]
    },
    {
      "cell_type": "code",
      "execution_count": 4,
      "metadata": {
        "id": "WB1qWR7ycyhk"
      },
      "outputs": [],
      "source": [
        "import torch\n",
        "from torchvision import datasets\n",
        "import matplotlib.pyplot as plt\n",
        "import torchvision.transforms as transforms\n",
        "import os\n",
        "from torch.utils.data import Dataset, DataLoader, random_split\n",
        "import torch.nn as nn\n",
        "import torch.nn.functional as F\n",
        "from Helper_codes.ae_helper import init_mnist_subset_directories\n",
        "from functools import reduce"
      ]
    },
    {
      "cell_type": "code",
      "execution_count": 5,
      "metadata": {
        "colab": {
          "base_uri": "https://localhost:8080/"
        },
        "id": "Xl50MioBdFpk",
        "outputId": "8c71c59d-b23c-4e6d-9858-a96b06924a8f"
      },
      "outputs": [
        {
          "output_type": "execute_result",
          "data": {
            "text/plain": [
              "device(type='cuda')"
            ]
          },
          "metadata": {},
          "execution_count": 5
        }
      ],
      "source": [
        "device = torch.device('cuda' if torch.cuda.is_available() else 'cpu')\n",
        "device"
      ]
    },
    {
      "cell_type": "markdown",
      "metadata": {
        "id": "wx59hwkqj0RD"
      },
      "source": [
        "#### Loading dataset"
      ]
    },
    {
      "cell_type": "code",
      "execution_count": 6,
      "metadata": {
        "id": "YDdS3sikj1xB"
      },
      "outputs": [],
      "source": [
        "mnist_dataset = datasets.MNIST(root='data', train=True, download=True, transform=transforms.ToTensor())"
      ]
    },
    {
      "cell_type": "markdown",
      "metadata": {
        "id": "USPO44OldQSB"
      },
      "source": [
        "## Autograd"
      ]
    },
    {
      "cell_type": "markdown",
      "metadata": {
        "id": "UZ3MTvqldpmz"
      },
      "source": [
        "Autograd is PyTorch's automatic differentiation engine that powers neural network training. In essence it helps us to calculate derivatives and updating parameters. To read more about Autograd and Computational Graph visit [this link](https://pytorch.org/tutorials/beginner/blitz/autograd_tutorial.html)\n",
        "\n",
        "Let us define two parameters: $p_1$ and $p_2$. "
      ]
    },
    {
      "cell_type": "code",
      "execution_count": 7,
      "metadata": {
        "id": "fyMHSBA7eg1P"
      },
      "outputs": [],
      "source": [
        "p1 = torch.tensor([3.], requires_grad=True)\n",
        "p2 = torch.tensor([7.], requires_grad=True)"
      ]
    },
    {
      "cell_type": "markdown",
      "metadata": {
        "id": "3clMbGmyesLk"
      },
      "source": [
        "Now define a variable $L$ as below:\n",
        "\n",
        "$L = 3 \\times p_1^3 - 7 \\times p_2^2 + sin(p1) \\times p_2^2$"
      ]
    },
    {
      "cell_type": "code",
      "execution_count": 8,
      "metadata": {
        "collectable": true,
        "id": "Q6Rf3tc5bJ3u"
      },
      "outputs": [],
      "source": [
        "# Place your code here (2.5 Points)\n",
        "## Hint: You can use torch.sin for calculation of sin(p1)\n",
        "L = 3 * p1**3 - 7 * p2**2 + torch.sin(p1) * p2**2"
      ]
    },
    {
      "cell_type": "markdown",
      "metadata": {
        "id": "yVEaM66zfI_r"
      },
      "source": [
        "Now you have to calculate the gradient of $p_1$ and $p_2$ with respect to $L$. First do it by hand and write the mathematical expression in the below cell both for $p_1$ and $p_2$. Then evaluate them at $3$ and $7$ (acording to the initialization)"
      ]
    },
    {
      "cell_type": "markdown",
      "metadata": {
        "id": "6AK61RzngBya"
      },
      "source": [
        "Place your expressions here **(2.5 Points)**\n",
        "\n",
        "\n",
        "$\\frac{dL}{dp_1} = 9 p_1^2 + \\cos(p_1) \\times p_2^2$\n",
        "\n",
        "$\\frac{dL}{dp_2} = -14 p_2 + 2 \\times \\sin(p_1) \\times p_2$\n",
        "\n",
        "$\\frac{dL}{dp_1}(3, 7) = 81 - 0.9899924966 \\times 49 = 32.4903676666$\n",
        "\n",
        "$\\frac{dL}{dp_2}(3, 7) = -98 + 2 \\times 0.14112000806 \\times 7 = -96.0243198872$"
      ]
    },
    {
      "cell_type": "code",
      "execution_count": 9,
      "metadata": {
        "id": "H8J9pEWYhQ7-"
      },
      "outputs": [],
      "source": [
        "# Place your code here (optional)\n",
        "## For calculation of dL/dp in the given point"
      ]
    },
    {
      "cell_type": "markdown",
      "metadata": {
        "id": "vfnbUWe9jDN_"
      },
      "source": [
        "Now let's calculate this using pytorch. The below code will construct the computational graph and stores the gradient of each variable inside of it."
      ]
    },
    {
      "cell_type": "code",
      "execution_count": 10,
      "metadata": {
        "id": "JHOUb91BfSLV"
      },
      "outputs": [],
      "source": [
        "L.backward()"
      ]
    },
    {
      "cell_type": "markdown",
      "metadata": {
        "id": "DPlm6Y-WjdqQ"
      },
      "source": [
        "Check whether the result of your calculations is the same with the autograd's output."
      ]
    },
    {
      "cell_type": "code",
      "execution_count": 11,
      "metadata": {
        "colab": {
          "base_uri": "https://localhost:8080/"
        },
        "id": "dTATg0EXfemL",
        "outputId": "c8afa918-267b-44bf-d55a-b1cf7777c8aa"
      },
      "outputs": [
        {
          "output_type": "stream",
          "name": "stdout",
          "text": [
            "P_1 grad: 32.4903678894043\n",
            "P_2 grad: -96.02432250976562\n"
          ]
        }
      ],
      "source": [
        "print(f\"P_1 grad: {p1.grad.item()}\\nP_2 grad: {p2.grad.item()}\")"
      ]
    },
    {
      "cell_type": "markdown",
      "metadata": {
        "id": "bnNZl6e6jpqt"
      },
      "source": [
        "## Transform "
      ]
    },
    {
      "cell_type": "markdown",
      "metadata": {
        "id": "LU7tlE9JkdPq"
      },
      "source": [
        "Data does not always come in its final processed form that is required for training machine learning algorithms. We use transforms to perform some manipulation of the data and make it suitable for training. For more details, you can read [this link](https://pytorch.org/vision/stable/transforms.html)\n",
        "\n",
        "There are many transformations that are already implemented inside pytorch that you can use. Here we are going to implement some transformation from scratch using PyTorch's framework."
      ]
    },
    {
      "cell_type": "markdown",
      "metadata": {
        "id": "axRueoKYkrq2"
      },
      "source": [
        "#### Random Horizontal Flip Transformation"
      ]
    },
    {
      "cell_type": "markdown",
      "metadata": {
        "id": "VWJaLIkgl6im"
      },
      "source": [
        "Define a transformation that flips the image (horizontally) with probability of $p$. In order to implement a simple transformation class, you need to have two methods: `__init__` and `__call__` (which receives the image)"
      ]
    },
    {
      "cell_type": "code",
      "execution_count": 12,
      "metadata": {
        "id": "tpVu037dkqGW"
      },
      "outputs": [],
      "source": [
        "class RandomHorizontalFlip(object):\n",
        "    def __init__(self, p=0.5):\n",
        "        # Place your code here (2 Points)\n",
        "        self.p = p\n",
        "  \n",
        "    def __call__(self, x):\n",
        "        # Place your code here (3 Points)\n",
        "        p = torch.rand(1).item()\n",
        "        if p < self.p:\n",
        "            flipped_x = torch.flip(x, [2])\n",
        "            return flipped_x\n",
        "        return x"
      ]
    },
    {
      "cell_type": "markdown",
      "metadata": {
        "id": "p7kC6zOOmraA"
      },
      "source": [
        "#### Random Color Swap"
      ]
    },
    {
      "cell_type": "markdown",
      "metadata": {
        "id": "LcFPotJVmzha"
      },
      "source": [
        "Now that you have learned how to implement a transformation class, let's build another one. Define a transformation which swaps the colors (in the gray scale image) with probability of $p$. For example, if the given image had a white colored number with a black background, it should output an image with black colored number and a white background.\n",
        "\n",
        "**Hint:** for a given input $x$, you can concider the swapped color version of it as $x_{new} = m - x$ where $m$ is the maximum value in image $x$"
      ]
    },
    {
      "cell_type": "code",
      "execution_count": 13,
      "metadata": {
        "id": "5_4W0QeDmxrZ"
      },
      "outputs": [],
      "source": [
        "# Place your code here (5 Points)\n",
        "class RandomColorSwap(object):\n",
        "    def __init__(self, p=0.5):\n",
        "        self.p = p\n",
        "  \n",
        "    def __call__(self, x):\n",
        "        p = torch.rand(1).item()\n",
        "        if p < self.p:\n",
        "            m = torch.max(x)\n",
        "            color_swapped_x = torch.sub(m, x)\n",
        "            return color_swapped_x\n",
        "        return x"
      ]
    },
    {
      "cell_type": "markdown",
      "metadata": {
        "id": "6sO1GAmQn-D_"
      },
      "source": [
        "### Evaluation of transformations"
      ]
    },
    {
      "cell_type": "markdown",
      "metadata": {
        "id": "gU8dglTeoCSq"
      },
      "source": [
        "Now, let's apply these transformations on some images of our dataset. You can stack different transformation using `Compose`"
      ]
    },
    {
      "cell_type": "code",
      "execution_count": 14,
      "metadata": {
        "id": "HhU0pqttoBC7"
      },
      "outputs": [],
      "source": [
        "trans = transforms.Compose([\n",
        "  RandomHorizontalFlip(p=0.7),\n",
        "  RandomColorSwap()\n",
        "])"
      ]
    },
    {
      "cell_type": "code",
      "execution_count": 15,
      "metadata": {
        "id": "WjTBM5N8oMJQ",
        "colab": {
          "base_uri": "https://localhost:8080/",
          "height": 301
        },
        "outputId": "e1befa60-4c82-42e2-9412-5f5d4172e6a6"
      },
      "outputs": [
        {
          "output_type": "display_data",
          "data": {
            "image/png": "[encoded data removed]",
            "text/plain": [
              "<Figure size 1800x360 with 20 Axes>"
            ]
          },
          "metadata": {}
        }
      ],
      "source": [
        "num_imgs = 10\n",
        "fig, axs = plt.subplots(2, num_imgs, figsize=(25, 5))\n",
        "for i, idx in enumerate(torch.randint(0, len(mnist_dataset), [num_imgs])):\n",
        "    x, y = mnist_dataset[idx]\n",
        "    axs[0, i].imshow(x[0], cmap='gray')\n",
        "    axs[1, i].imshow(trans(x)[0], cmap='gray')\n",
        "    for k in range(2):\n",
        "        axs[k, i].set_yticks([])\n",
        "        axs[k, i].set_xticks([])\n",
        "\n",
        "axs[0, 0].set_ylabel(\"Original\")\n",
        "axs[1, 0].set_ylabel(\"Transformed\");"
      ]
    },
    {
      "cell_type": "markdown",
      "metadata": {
        "id": "nrl6OhN_osOd"
      },
      "source": [
        "What we expect to see is that, some of them are fliped horizontally, some swapped in color, and some both."
      ]
    },
    {
      "cell_type": "markdown",
      "metadata": {
        "id": "6f3K_sOxpG3V"
      },
      "source": [
        "## Dataset"
      ]
    },
    {
      "cell_type": "markdown",
      "metadata": {
        "id": "sYh7GBGPpQhU"
      },
      "source": [
        "In this section, we are going to implement a dataset class. Inside `torchvision.datasets` there are many Datasets that are already implemented and ready to use. But, in many situations it's necessary to implement one by your self."
      ]
    },
    {
      "cell_type": "markdown",
      "metadata": {
        "id": "JqQjsiGTrW8l"
      },
      "source": [
        "Run the below cell to initialize our dataset"
      ]
    },
    {
      "cell_type": "code",
      "execution_count": null,
      "metadata": {
        "id": "FztDAwMxrLRx"
      },
      "outputs": [],
      "source": [
        "dataset_path = \"new_mnist\"\n",
        "init_mnist_subset_directories(mnist_dataset, dataset_path)"
      ]
    },
    {
      "cell_type": "markdown",
      "metadata": {
        "id": "7iYvcVlhrmmk"
      },
      "source": [
        "If you take a look at `new_mnist` directory which is created in the directory you are working in, you see that it contains 10 folders with names from `0` to `9` indicating the label of the images inside it. Inside each, some files with name `data_{number}.pth` exist. Each `.pth` file is an image.\n",
        "\n",
        "Now you have to implement a Dataset on top of these files.\n",
        "The methods that you should implement in a Dataset (as you can see in the code) is as described below:\n",
        "- `__init__`: In our example assume that it only accepts `root_dir` and `transform` as it's parameters (You should apply the transformations before outputing the data)\n",
        "- `__len__`: Should return the number of data in your dataset\n",
        "- `__getitem__`: which receives an index, should return the data at the given index (which is a tuple here, containing image and the corresponding label) "
      ]
    },
    {
      "cell_type": "code",
      "execution_count": 17,
      "metadata": {
        "id": "RixD6z30qt1o"
      },
      "outputs": [],
      "source": [
        "class MNISTDataset(Dataset):\n",
        "    def __init__(self, root_dir, transform):\n",
        "        # Place your code here (4 Points)\n",
        "        ## Hint: Use os.listdir(some_path) to get the list of files\n",
        "        self.transform = transform\n",
        "        self.folders = os.listdir(root_dir)\n",
        "        self.path_label_tuple_by_idx = {}\n",
        "        for folder in self.folders:\n",
        "            path = os.path.join(root_dir, folder)\n",
        "            label = int(folder)\n",
        "            for file in os.listdir(path):\n",
        "                file_path = os.path.join(path, file)\n",
        "                idx = int(file.replace('data_', '').replace('.pth', ''))\n",
        "                self.path_label_tuple_by_idx[idx] = (file_path, label)\n",
        "        self.len = len(self.path_label_tuple_by_idx)\n",
        "\n",
        "    def __len__(self):\n",
        "        # Place your code here (1 Points)\n",
        "        return self.len\n",
        "\n",
        "    def __getitem__(self, idx):\n",
        "        # Place your code here (3 Points)\n",
        "        ## Return a tuple (image, label)\n",
        "        path_label = self.path_label_tuple_by_idx.get(idx)\n",
        "        if path_label is None:\n",
        "            raise IndexError(f'Index {idx} not found in dataset')\n",
        "        path, label = path_label\n",
        "        image = self.transform(torch.load(path))\n",
        "        return image, label"
      ]
    },
    {
      "cell_type": "markdown",
      "metadata": {
        "id": "ObSdu-MwuYJK"
      },
      "source": [
        "After you defined your dataset, let's use it."
      ]
    },
    {
      "cell_type": "code",
      "execution_count": 18,
      "metadata": {
        "id": "YctASmSEuiqG",
        "colab": {
          "base_uri": "https://localhost:8080/"
        },
        "outputId": "ae555257-80f6-448e-fd07-4f6ed2fdcdaf"
      },
      "outputs": [
        {
          "output_type": "execute_result",
          "data": {
            "text/plain": [
              "5000"
            ]
          },
          "metadata": {},
          "execution_count": 18
        }
      ],
      "source": [
        "my_dataset = MNISTDataset(root_dir=dataset_path, transform=RandomColorSwap())\n",
        "len(my_dataset)"
      ]
    },
    {
      "cell_type": "markdown",
      "metadata": {
        "id": "VMTt5b4wvWik"
      },
      "source": [
        "Visualize 10 samples (randomely) from your dataset with their labels"
      ]
    },
    {
      "cell_type": "code",
      "execution_count": 19,
      "metadata": {
        "id": "nWMmwUvjudSr",
        "colab": {
          "base_uri": "https://localhost:8080/",
          "height": 156
        },
        "outputId": "e548f29c-3f26-4caf-eeb9-5aca42985623"
      },
      "outputs": [
        {
          "output_type": "display_data",
          "data": {
            "image/png": "[encoded data removed]",
            "text/plain": [
              "<Figure size 3600x360 with 10 Axes>"
            ]
          },
          "metadata": {}
        }
      ],
      "source": [
        "# Place your code here (2 Points)\n",
        "num_imgs = 10\n",
        "fig, axs = plt.subplots(1, num_imgs, figsize=(50, 5))\n",
        "for i, idx in enumerate(torch.randint(0, len(my_dataset), [num_imgs])):\n",
        "    image, label = my_dataset[i]\n",
        "    axs[i].imshow(image[0], cmap='gray')\n",
        "    axs[i].set_xlabel(f'Label: {label}')\n",
        "    axs[i].set_yticks([])\n",
        "    axs[i].set_xticks([])\n",
        "plt.show()"
      ]
    },
    {
      "cell_type": "markdown",
      "metadata": {
        "id": "qKWNRCGuwDpf"
      },
      "source": [
        "## MNIST Classification"
      ]
    },
    {
      "cell_type": "markdown",
      "metadata": {
        "id": "DQ8QfxCnzESu"
      },
      "source": [
        "### Model\n",
        "Define your model (Based on what you have learned in the workshop). I highly encourage you to try different models with different layers in order to achieve a better accuracy\n",
        "\n",
        "**Notice:** You cannot use convolution layers in your model "
      ]
    },
    {
      "cell_type": "code",
      "execution_count": 55,
      "metadata": {
        "id": "2rpkLTDazDgl"
      },
      "outputs": [],
      "source": [
        "# Place your code here (5 points)\n",
        "class DigitRecognizer(nn.Module):\n",
        "    def __init__(self):\n",
        "        super(DigitRecognizer, self).__init__()\n",
        "        self.linear1 = nn.Linear(28*28, 512)\n",
        "        self.relu = nn.ReLU()\n",
        "        self.linear2 = nn.Linear(512, 10)\n",
        "\n",
        "    def forward(self, x):\n",
        "        _x = x\n",
        "        _x = self.linear1(_x)\n",
        "        _x = self.relu(_x)\n",
        "        _x = self.linear2(_x)\n",
        "        return _x"
      ]
    },
    {
      "cell_type": "code",
      "execution_count": 56,
      "metadata": {
        "id": "rVXXfXBvzwY3",
        "colab": {
          "base_uri": "https://localhost:8080/"
        },
        "outputId": "7fd96fb8-a7d2-4e6d-e85d-5dfa89376b27"
      },
      "outputs": [
        {
          "output_type": "execute_result",
          "data": {
            "text/plain": [
              "DigitRecognizer(\n",
              "  (linear1): Linear(in_features=784, out_features=512, bias=True)\n",
              "  (relu): ReLU()\n",
              "  (linear2): Linear(in_features=512, out_features=10, bias=True)\n",
              ")"
            ]
          },
          "metadata": {},
          "execution_count": 56
        }
      ],
      "source": [
        "model = DigitRecognizer().to(device)\n",
        "model"
      ]
    },
    {
      "cell_type": "markdown",
      "metadata": {
        "id": "29ekb8vBz06M"
      },
      "source": [
        "### Dataset and Dataloader"
      ]
    },
    {
      "cell_type": "markdown",
      "metadata": {
        "id": "UIJbRn7C0MXI"
      },
      "source": [
        "Prepare datasets and dataloader for train/test. We use MNIST dataset that is already implemented inside `torchvision.datasets`.\n",
        "\n",
        " You need to split the `mnist_dataset` into `train_dataset` and `val_dataset`. \n",
        " \n",
        " You can also define more transformations that you think it would help the training process **(Optional)**."
      ]
    },
    {
      "cell_type": "code",
      "execution_count": 57,
      "metadata": {
        "id": "OGASwi3AzzZV"
      },
      "outputs": [],
      "source": [
        "transform_compose = transforms.Compose([\n",
        "    transforms.ToTensor(),\n",
        "    # Place your code here\n",
        "])\n",
        "\n",
        "mnist_dataset = datasets.MNIST(root='dataset', train=True, download=True, transform=transform_compose)\n",
        "# Place your code here (1 points)\n",
        "## Notice: Split mnist_dataset into train_dataset and val_dataset\n",
        "dataset_size = len(mnist_dataset)\n",
        "train_dataset, val_dataset = torch.utils.data.random_split(mnist_dataset, [int(dataset_size * 0.8), int(dataset_size * 0.2)])\n",
        "# End of block for your code placement\n",
        "test_dataset = datasets.MNIST(root='dataset', train=False, download=True, transform=transforms.ToTensor())\n",
        "\n",
        "train_loader = DataLoader(dataset=train_dataset, batch_size=32, shuffle=True)\n",
        "val_loader = DataLoader(dataset=val_dataset, batch_size=32, shuffle=False)\n",
        "test_loader = DataLoader(dataset=test_dataset, batch_size=32, shuffle=False)"
      ]
    },
    {
      "cell_type": "markdown",
      "metadata": {
        "id": "8_knAsJK1eoL"
      },
      "source": [
        "### Criterion and Optimizer"
      ]
    },
    {
      "cell_type": "markdown",
      "metadata": {
        "id": "hCwVvh7v1mPy"
      },
      "source": [
        "you have to tune the `learning_rate` yourself (Based on your training process)"
      ]
    },
    {
      "cell_type": "code",
      "execution_count": 58,
      "metadata": {
        "id": "3AiRenXy1jJO"
      },
      "outputs": [],
      "source": [
        "criterion = nn.CrossEntropyLoss()\n",
        "learning_rate= 1e-3\n",
        "optimizer = torch.optim.Adam(model.parameters(), lr=learning_rate)"
      ]
    },
    {
      "cell_type": "markdown",
      "metadata": {
        "id": "4c9K1Hlf12UF"
      },
      "source": [
        "### Train your model"
      ]
    },
    {
      "cell_type": "markdown",
      "metadata": {
        "id": "urJ44vOA2Exl"
      },
      "source": [
        "Write your training/validation loop in the following cell for an arbitrary number of epochs (until convergence is detected). You also need to store train/validation loss at each epoch in order to visualize them the after training is done."
      ]
    },
    {
      "cell_type": "code",
      "execution_count": 62,
      "metadata": {
        "id": "lyCVVo742PPQ",
        "colab": {
          "base_uri": "https://localhost:8080/"
        },
        "outputId": "acca34df-7a3c-46db-fcd8-4aca94afc507"
      },
      "outputs": [
        {
          "output_type": "stream",
          "name": "stdout",
          "text": [
            "[Epoch 0]\tTrain Loss: 0.0087\tValidation Loss: 0.0884\n",
            "[Epoch 1]\tTrain Loss: 0.0109\tValidation Loss: 0.1003\n",
            "[Epoch 2]\tTrain Loss: 0.0070\tValidation Loss: 0.0948\n",
            "[Epoch 3]\tTrain Loss: 0.0083\tValidation Loss: 0.1287\n",
            "[Epoch 4]\tTrain Loss: 0.0069\tValidation Loss: 0.1057\n",
            "[Epoch 5]\tTrain Loss: 0.0092\tValidation Loss: 0.1015\n",
            "[Epoch 6]\tTrain Loss: 0.0049\tValidation Loss: 0.1009\n",
            "[Epoch 7]\tTrain Loss: 0.0064\tValidation Loss: 0.1292\n",
            "[Epoch 8]\tTrain Loss: 0.0066\tValidation Loss: 0.1191\n",
            "[Epoch 9]\tTrain Loss: 0.0055\tValidation Loss: 0.1080\n"
          ]
        }
      ],
      "source": [
        "num_epochs = 10\n",
        "\n",
        "train_loss_arr, val_loss_arr = [], []\n",
        "for epoch in range(num_epochs):\n",
        "    train_loss, val_loss = 0, 0\n",
        "\n",
        "    model.train()\n",
        "    # Place your code here (5 points)\n",
        "    ## Hint: Loop throught train_loader, get images with their labels and train the model\n",
        "    ## Hint 2: To update train_loss inside the loop use \"train_loss += batch_loss * batch_size\"\"\n",
        "    for i, (images, labels) in enumerate(train_loader):\n",
        "        images = images.reshape(-1, 28*28).to(device)\n",
        "        labels = labels.to(device)\n",
        "        optimizer.zero_grad()\n",
        "        outputs = model(images)\n",
        "        batch_loss = criterion(outputs, labels)\n",
        "        train_loss += batch_loss.item() * images.size(0)\n",
        "        batch_loss.backward()\n",
        "        optimizer.step()\n",
        "  \n",
        "    model.eval()\n",
        "    # Place your code here (4 points)\n",
        "    ## Hint: Loop throught val_loader, get images with their labels and evaluate the model\n",
        "    ## Hint 2: To update val_loss inside the loop use \"val_loss += batch_loss * batch_size\"\"\n",
        "    for i, (images, labels) in enumerate(val_loader):\n",
        "        images = images.reshape(-1, 28*28).to(device)\n",
        "        labels = labels.to(device)\n",
        "        outputs = model(images)\n",
        "        batch_loss = criterion(outputs, labels)\n",
        "        val_loss += batch_loss.item() * images.size(0)\n",
        "\n",
        "    train_loss /= len(train_loader.dataset)\n",
        "    val_loss /= len(val_loader.dataset)\n",
        "    train_loss_arr.append(train_loss)\n",
        "    val_loss_arr.append(val_loss)\n",
        "\n",
        "    print(f\"[Epoch {epoch}]\\t\"\n",
        "        f\"Train Loss: {train_loss:.4f}\\t\"\n",
        "        f\"Validation Loss: {val_loss:.4f}\")"
      ]
    },
    {
      "cell_type": "markdown",
      "metadata": {
        "id": "oe3KbjZG2mNd"
      },
      "source": [
        "#### Plot train/validation loss"
      ]
    },
    {
      "cell_type": "code",
      "execution_count": 63,
      "metadata": {
        "id": "nNwH8WMy2qmr",
        "colab": {
          "base_uri": "https://localhost:8080/",
          "height": 334
        },
        "outputId": "87114e1e-77a6-4269-dd5c-138e73eb214a"
      },
      "outputs": [
        {
          "output_type": "display_data",
          "data": {
            "image/png": "[encoded data removed]",
            "text/plain": [
              "<Figure size 720x360 with 1 Axes>"
            ]
          },
          "metadata": {
            "needs_background": "light"
          }
        }
      ],
      "source": [
        "# Place your code here (1 points)\n",
        "x = torch.arange(num_epochs)\n",
        "plt.figure(figsize=(10, 5))\n",
        "plt.plot(x, train_loss_arr, label='Train Loss')\n",
        "plt.plot(x, val_loss_arr, label='Validation Loss')\n",
        "plt.xlabel('epoch')\n",
        "plt.ylabel('Loss')\n",
        "plt.legend()\n",
        "pass"
      ]
    },
    {
      "cell_type": "markdown",
      "metadata": {
        "id": "AKsD6NhU2w71"
      },
      "source": [
        "### Evaluation"
      ]
    },
    {
      "cell_type": "markdown",
      "metadata": {
        "id": "oZcXJuWX255T"
      },
      "source": [
        "Evaluate your model on test set. you have to report both loss and accuracy.\n",
        "\n",
        "In order to get the full score of this section, you need to achieve an accuracy above $95\\%$ and to get the extra points, your accuracy should be above $98\\%$ \n",
        "\n",
        "**Notice:** You should use test set only for evaluation of your model."
      ]
    },
    {
      "cell_type": "code",
      "execution_count": 70,
      "metadata": {
        "id": "bl4bsjhg2xMo",
        "colab": {
          "base_uri": "https://localhost:8080/"
        },
        "outputId": "9f90c609-6b88-44cb-8847-2092edf322f1"
      },
      "outputs": [
        {
          "output_type": "stream",
          "name": "stdout",
          "text": [
            "Accuracy: 98\n",
            "Test Loss: 3.4176\n"
          ]
        }
      ],
      "source": [
        "# Place your code here (4 points + 5 Extra)\n",
        "true_predictions = 0\n",
        "total_predictions = 0\n",
        "test_loss = 0\n",
        "wrong_predictions = []\n",
        "for images, labels in test_loader:\n",
        "    images = images.reshape(-1, 28*28).to(device)\n",
        "    labels = labels.to(device)\n",
        "    with torch.no_grad():\n",
        "        outputs = model(images)\n",
        "        _, predicted = torch.max(outputs.data, 1)\n",
        "        total_predictions += labels.size(0)\n",
        "        true_predictions += (predicted == labels).sum().item()\n",
        "        batch_loss = criterion(outputs, labels)\n",
        "        test_loss += batch_loss.item() * images.size(0)\n",
        "        for idx in torch.where(predicted != labels)[0].tolist():\n",
        "            wrong_predictions.append((images[idx], labels[idx], predicted[idx]))\n",
        "test_loss /= len(test_loader)\n",
        "print(f'Accuracy: {int(true_predictions/total_predictions*100)}')\n",
        "print(f'Test Loss: {test_loss:.4f}')"
      ]
    },
    {
      "cell_type": "markdown",
      "metadata": {
        "id": "w4eZsFnV3rTi"
      },
      "source": [
        "### Visualization of wrong prediction"
      ]
    },
    {
      "cell_type": "markdown",
      "metadata": {
        "id": "y9jvB_lZ3uqx"
      },
      "source": [
        "Visualize $8$ samples (along with original label and model's prediction) from test set which are labeled wrong by your model"
      ]
    },
    {
      "cell_type": "code",
      "execution_count": 89,
      "metadata": {
        "id": "8rLlhJvE4IjZ",
        "colab": {
          "base_uri": "https://localhost:8080/",
          "height": 181
        },
        "outputId": "97247d86-6d10-4788-885a-59df29bdf513"
      },
      "outputs": [
        {
          "output_type": "display_data",
          "data": {
            "image/png": "[encoded data removed]",
            "text/plain": [
              "<Figure size 3600x360 with 8 Axes>"
            ]
          },
          "metadata": {}
        }
      ],
      "source": [
        "# Place your code here (5 points)\n",
        "num_imgs = 8\n",
        "fig, axs = plt.subplots(1, num_imgs, figsize=(50, 5))\n",
        "for i, idx in enumerate(torch.randint(0, len(wrong_predictions), [num_imgs])):\n",
        "    image, label, predicted_label = wrong_predictions[i]\n",
        "    image = image.reshape(28, 28).cpu()\n",
        "    axs[i].imshow(image, cmap='gray')\n",
        "    axs[i].set_xlabel(f'Label: {label}, Predicted: {predicted_label}', fontsize=20)\n",
        "    axs[i].set_yticks([])\n",
        "    axs[i].set_xticks([])\n",
        "plt.show()"
      ]
    }
  ],
  "metadata": {
    "colab": {
      "collapsed_sections": [],
      "name": "Q2.ipynb",
      "provenance": []
    },
    "interpreter": {
      "hash": "f336af7d54ba0f0c1daaf2256eb85f31e983e88153daf7a27ef3ea6c724faba4"
    },
    "kernelspec": {
      "display_name": "Python 3 (ipykernel)",
      "language": "python",
      "name": "python3"
    },
    "language_info": {
      "codemirror_mode": {
        "name": "ipython",
        "version": 3
      },
      "file_extension": ".py",
      "mimetype": "text/x-python",
      "name": "python",
      "nbconvert_exporter": "python",
      "pygments_lexer": "ipython3",
      "version": "3.7.12"
    },
    "accelerator": "GPU"
  },
  "nbformat": 4,
  "nbformat_minor": 0
}