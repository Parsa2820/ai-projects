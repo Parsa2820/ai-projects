{
 "cells": [
  {
   "cell_type": "markdown",
   "metadata": {
    "id": "d98O4vjubJ3j"
   },
   "source": [
    "<div align=center>\n",
    "\t\t\n",
    "<p></p>\n",
    "<p></p>\n",
    "<font size=5>\n",
    "In the Name of God\n",
    "<font/>\n",
    "<p></p>\n",
    " <br/>\n",
    "    <br/>\n",
    "    <br/>\n",
    "<font color=#FF7500>\n",
    "Sharif University of Technology - Departmenet of Computer Engineering\n",
    "</font>\n",
    "<p></p>\n",
    "<font color=blue>\n",
    "Artifical Intelligence - Dr. Mohammad Hossein Rohban\n",
    "</font>\n",
    "<br/>\n",
    "<br/>\n",
    "Fall 2021\n",
    "\n",
    "</div>\n",
    "\n",
    "<hr/>\n",
    "\t\t<div align=center>\n",
    "\t\t    <font color=red size=6>\n",
    "\t\t\t    <br />\n",
    "Practical Assignment 4 Pytorch Classification\n",
    "            \t<br/>\n",
    "\t\t\t</font>\n",
    "    <br/>\n",
    "    <br/>\n",
    "<font size=4>\n",
    "                <br/><b>\n",
    "              Cheating is Strongly Prohibited\n",
    "                </b><br/><br/>\n",
    "                <font color=red>\n",
    "Please run all the cells.\n",
    "     </font>\n",
    "</font>\n",
    "                <br/>\n",
    "    </div>"
   ]
  },
  {
   "cell_type": "markdown",
   "metadata": {
    "id": "Vc56RQq_bJ3p"
   },
   "source": [
    "# Personal Data"
   ]
  },
  {
   "cell_type": "code",
   "execution_count": 3,
   "metadata": {
    "collectable": true,
    "execution": {
     "iopub.execute_input": "2021-10-01T16:01:36.762477Z",
     "iopub.status.busy": "2021-10-01T16:01:36.762155Z",
     "iopub.status.idle": "2021-10-01T16:01:36.764025Z",
     "shell.execute_reply": "2021-10-01T16:01:36.763754Z"
    },
    "id": "tODT3Ai9bJ3q"
   },
   "outputs": [],
   "source": [
    "# Set your student number\n",
    "student_number = 98000000\n",
    "Name = ''\n",
    "Last_Name = ''"
   ]
  },
  {
   "cell_type": "markdown",
   "metadata": {
    "id": "j36cYwxIbJ3r"
   },
   "source": [
    "# Rules\n",
    "- You **are** allowed to add or remove cells. \n",
    "- By running the cell below, you can see if your jupyter file is accepted or not. This cell will also **generate a python file which you'll have to upload to Quera** (as well as your jupyter file). The python file will later be validated and if the code in both files doesn't match, **your Practical Assignment won't be graded**."
   ]
  },
  {
   "cell_type": "code",
   "execution_count": 4,
   "metadata": {
    "id": "MxF-SCt7bJ3s"
   },
   "outputs": [
    {
     "name": "stdout",
     "output_type": "stream",
     "text": [
      "your file will be graded\n"
     ]
    }
   ],
   "source": [
    "# remember to save your jupyter file before running this script\n",
    "from Helper_codes.validator import *\n",
    "\n",
    "python_code = extract_python(\"./Q2.ipynb\")\n",
    "with open(f'python_code_Q2_{student_number}.py', 'w') as file:\n",
    "    file.write(python_code)"
   ]
  },
  {
   "cell_type": "markdown",
   "metadata": {
    "id": "Fa1McbDhbJ3s"
   },
   "source": [
    "# PyTorch & MNIST Classification (50 points+5 Extra)"
   ]
  },
  {
   "cell_type": "markdown",
   "metadata": {
    "id": "sSeuI5X2bJ3t"
   },
   "source": [
    "<font size=4>\n",
    "Author: Arman Zarei\n",
    "\t\t\t<br/>\n",
    "                <font color=red>\n",
    "Please run all the cells.\n",
    "     </font>\n",
    "</font>\n",
    "                <br/>\n",
    "    </div>"
   ]
  },
  {
   "cell_type": "markdown",
   "metadata": {
    "id": "hpgcA5aVbhvr"
   },
   "source": [
    "In this assignment, you are going to learn the fundamentals of PyTorch and implement a classifier network for MNIST dataset. You can read about more details of PyTorch components from [this link](https://pytorch.org/tutorials)."
   ]
  },
  {
   "cell_type": "markdown",
   "metadata": {
    "id": "eWerEtmwcjDW"
   },
   "source": [
    "### Setup"
   ]
  },
  {
   "cell_type": "code",
   "execution_count": null,
   "metadata": {
    "id": "WB1qWR7ycyhk"
   },
   "outputs": [],
   "source": [
    "import torch\n",
    "from torchvision import datasets\n",
    "import matplotlib.pyplot as plt\n",
    "import torchvision.transforms as transforms\n",
    "import os\n",
    "from torch.utils.data import Dataset, DataLoader, random_split\n",
    "import torch.nn as nn\n",
    "import torch.nn.functional as F\n",
    "from ae_helper import init_mnist_subset_directories"
   ]
  },
  {
   "cell_type": "code",
   "execution_count": null,
   "metadata": {
    "colab": {
     "base_uri": "https://localhost:8080/"
    },
    "id": "Xl50MioBdFpk",
    "outputId": "87763a85-aac4-403a-f967-e469313c94b9"
   },
   "outputs": [],
   "source": [
    "device = torch.device('cuda' if torch.cuda.is_available() else 'cpu')\n",
    "device"
   ]
  },
  {
   "cell_type": "markdown",
   "metadata": {
    "id": "wx59hwkqj0RD"
   },
   "source": [
    "#### Loading dataset"
   ]
  },
  {
   "cell_type": "code",
   "execution_count": null,
   "metadata": {
    "id": "YDdS3sikj1xB"
   },
   "outputs": [],
   "source": [
    "mnist_dataset = datasets.MNIST(root='data', train=True, download=True, transform=transforms.ToTensor())"
   ]
  },
  {
   "cell_type": "markdown",
   "metadata": {
    "id": "USPO44OldQSB"
   },
   "source": [
    "## Autograd"
   ]
  },
  {
   "cell_type": "markdown",
   "metadata": {
    "id": "UZ3MTvqldpmz"
   },
   "source": [
    "Autograd is PyTorch's automatic differentiation engine that powers neural network training. In essence it helps us to calculate derivatives and updating parameters. To read more about Autograd and Computational Graph visit [this link](https://pytorch.org/tutorials/beginner/blitz/autograd_tutorial.html)\n",
    "\n",
    "Let us define two parameters: $p_1$ and $p_2$. "
   ]
  },
  {
   "cell_type": "code",
   "execution_count": null,
   "metadata": {
    "id": "fyMHSBA7eg1P"
   },
   "outputs": [],
   "source": [
    "p1 = torch.tensor([3.], requires_grad=True)\n",
    "p2 = torch.tensor([7.], requires_grad=True)"
   ]
  },
  {
   "cell_type": "markdown",
   "metadata": {
    "id": "3clMbGmyesLk"
   },
   "source": [
    "Now define a variable $L$ as below:\n",
    "\n",
    "$L = 3 \\times p_1^3 - 7 \\times p_2^2 + sin(p1) \\times p_2^2$"
   ]
  },
  {
   "cell_type": "code",
   "execution_count": null,
   "metadata": {
    "collectable": true,
    "id": "Q6Rf3tc5bJ3u"
   },
   "outputs": [],
   "source": [
    "# Place your code here (2.5 Points)\n",
    "## Hint: You can use torch.sin for calculation of sin(p1)\n"
   ]
  },
  {
   "cell_type": "markdown",
   "metadata": {
    "id": "yVEaM66zfI_r"
   },
   "source": [
    "Now you have to calculate the gradient of $p_1$ and $p_2$ with respect to $L$. First do it by hand and write the mathematical expression in the below cell both for $p_1$ and $p_2$. Then evaluate them at $3$ and $7$ (acording to the initialization)"
   ]
  },
  {
   "cell_type": "markdown",
   "metadata": {
    "id": "6AK61RzngBya"
   },
   "source": [
    "Place your expressions here **(2.5 Points)**\n",
    "\n",
    "\n",
    "$\\frac{dL}{dp_1} =$ \n",
    "\n",
    "$\\frac{dL}{dp_2} =$\n",
    "\n",
    "$\\frac{dL}{dp_1}(3, 7) =$\n",
    "\n",
    "$\\frac{dL}{dp_2}(3, 7) =$"
   ]
  },
  {
   "cell_type": "code",
   "execution_count": null,
   "metadata": {
    "id": "H8J9pEWYhQ7-"
   },
   "outputs": [],
   "source": [
    "# Place your code here (optional)\n",
    "## For calculation of dL/dp in the given point"
   ]
  },
  {
   "cell_type": "markdown",
   "metadata": {
    "id": "vfnbUWe9jDN_"
   },
   "source": [
    "Now let's calculate this using pytorch. The below code will construct the computational graph and stores the gradient of each variable inside of it."
   ]
  },
  {
   "cell_type": "code",
   "execution_count": null,
   "metadata": {
    "id": "JHOUb91BfSLV"
   },
   "outputs": [],
   "source": [
    "L.backward()"
   ]
  },
  {
   "cell_type": "markdown",
   "metadata": {
    "id": "DPlm6Y-WjdqQ"
   },
   "source": [
    "Check whether the result of your calculations is the same with the autograd's output."
   ]
  },
  {
   "cell_type": "code",
   "execution_count": null,
   "metadata": {
    "colab": {
     "base_uri": "https://localhost:8080/"
    },
    "id": "dTATg0EXfemL",
    "outputId": "36d5090d-89b1-4107-b626-b71bd8c915f0"
   },
   "outputs": [],
   "source": [
    "print(f\"P_1 grad: {p1.grad.item()}\\nP_2 grad: {p2.grad.item()}\")"
   ]
  },
  {
   "cell_type": "markdown",
   "metadata": {
    "id": "bnNZl6e6jpqt"
   },
   "source": [
    "## Transform "
   ]
  },
  {
   "cell_type": "markdown",
   "metadata": {
    "id": "LU7tlE9JkdPq"
   },
   "source": [
    "Data does not always come in its final processed form that is required for training machine learning algorithms. We use transforms to perform some manipulation of the data and make it suitable for training. For more details, you can read [this link](https://pytorch.org/vision/stable/transforms.html)\n",
    "\n",
    "There are many transformations that are already implemented inside pytorch that you can use. Here we are going to implement some transformation from scratch using PyTorch's framework."
   ]
  },
  {
   "cell_type": "markdown",
   "metadata": {
    "id": "axRueoKYkrq2"
   },
   "source": [
    "#### Random Horizontal Flip Transformation"
   ]
  },
  {
   "cell_type": "markdown",
   "metadata": {
    "id": "VWJaLIkgl6im"
   },
   "source": [
    "Define a transformation that flips the image (horizontally) with probability of $p$. In order to implement a simple transformation class, you need to have two methods: `__init__` and `__call__` (which receives the image)"
   ]
  },
  {
   "cell_type": "code",
   "execution_count": null,
   "metadata": {
    "id": "tpVu037dkqGW"
   },
   "outputs": [],
   "source": [
    "class RandomHorizontalFlip(object):\n",
    "    def __init__(self, p=0.5):\n",
    "    # Place your code here (2 Points)\n",
    "    pass\n",
    "  \n",
    "    def __call__(self, x):\n",
    "    # Place your code here (3 Points)\n",
    "    pass"
   ]
  },
  {
   "cell_type": "markdown",
   "metadata": {
    "id": "p7kC6zOOmraA"
   },
   "source": [
    "#### Random Color Swap"
   ]
  },
  {
   "cell_type": "markdown",
   "metadata": {
    "id": "LcFPotJVmzha"
   },
   "source": [
    "Now that you have learned how to implement a transformation class, let's build another one. Define a transformation which swaps the colors (in the gray scale image) with probability of $p$. For example, if the given image had a white colored number with a black background, it should output an image with black colored number and a white background.\n",
    "\n",
    "**Hint:** for a given input $x$, you can concider the swapped color version of it as $x_{new} = m - x$ where $m$ is the maximum value in image $x$"
   ]
  },
  {
   "cell_type": "code",
   "execution_count": null,
   "metadata": {
    "id": "5_4W0QeDmxrZ"
   },
   "outputs": [],
   "source": [
    "# Place your code here (5 Points)\n",
    "class RandomColorSwap(object):\n",
    "    pass"
   ]
  },
  {
   "cell_type": "markdown",
   "metadata": {
    "id": "6sO1GAmQn-D_"
   },
   "source": [
    "### Evaluation of transformations"
   ]
  },
  {
   "cell_type": "markdown",
   "metadata": {
    "id": "gU8dglTeoCSq"
   },
   "source": [
    "Now, let's apply these transformations on some images of our dataset. You can stack different transformation using `Compose`"
   ]
  },
  {
   "cell_type": "code",
   "execution_count": null,
   "metadata": {
    "id": "HhU0pqttoBC7"
   },
   "outputs": [],
   "source": [
    "trans = transforms.Compose([\n",
    "  RandomHorizontalFlip(p=0.7),\n",
    "  RandomColorSwap()\n",
    "])"
   ]
  },
  {
   "cell_type": "code",
   "execution_count": null,
   "metadata": {
    "id": "WjTBM5N8oMJQ"
   },
   "outputs": [],
   "source": [
    "num_imgs = 10\n",
    "fig, axs = plt.subplots(2, num_imgs, figsize=(25, 5))\n",
    "for i, idx in enumerate(torch.randint(0, len(mnist_dataset), [num_imgs])):\n",
    "    x, y = mnist_dataset[idx]\n",
    "    axs[0, i].imshow(x[0], cmap='gray')\n",
    "    axs[1, i].imshow(trans(x)[0], cmap='gray')\n",
    "    for k in range(2):\n",
    "        axs[k, i].set_yticks([])\n",
    "        axs[k, i].set_xticks([])\n",
    "\n",
    "axs[0, 0].set_ylabel(\"Original\")\n",
    "axs[1, 0].set_ylabel(\"Transformed\");"
   ]
  },
  {
   "cell_type": "markdown",
   "metadata": {
    "id": "nrl6OhN_osOd"
   },
   "source": [
    "What we expect to see is that, some of them are fliped horizontally, some swapped in color, and some both."
   ]
  },
  {
   "cell_type": "markdown",
   "metadata": {
    "id": "6f3K_sOxpG3V"
   },
   "source": [
    "## Dataset"
   ]
  },
  {
   "cell_type": "markdown",
   "metadata": {
    "id": "sYh7GBGPpQhU"
   },
   "source": [
    "In this section, we are going to implement a dataset class. Inside `torchvision.datasets` there are many Datasets that are already implemented and ready to use. But, in many situations it's necessary to implement one by your self."
   ]
  },
  {
   "cell_type": "markdown",
   "metadata": {
    "id": "JqQjsiGTrW8l"
   },
   "source": [
    "Run the below cell to initialize our dataset"
   ]
  },
  {
   "cell_type": "code",
   "execution_count": null,
   "metadata": {
    "colab": {
     "base_uri": "https://localhost:8080/"
    },
    "id": "FztDAwMxrLRx",
    "outputId": "570cfceb-fe55-4b21-8394-6f9843a5b8b3"
   },
   "outputs": [],
   "source": [
    "dataset_path = \"new_mnist\"\n",
    "init_mnist_subset_directories(mnist_dataset, dataset_path)"
   ]
  },
  {
   "cell_type": "markdown",
   "metadata": {
    "id": "7iYvcVlhrmmk"
   },
   "source": [
    "If you take a look at `new_mnist` directory which is created in the directory you are working in, you see that it contains 10 folders with names from `0` to `9` indicating the label of the images inside it. Inside each, some files with name `data_{number}.pth` exist. Each `.pth` file is an image.\n",
    "\n",
    "Now you have to implement a Dataset on top of these files.\n",
    "The methods that you should implement in a Dataset (as you can see in the code) is as described below:\n",
    "- `__init__`: In our example assume that it only accepts `root_dir` and `transform` as it's parameters (You should apply the transformations before outputing the data)\n",
    "- `__len__`: Should return the number of data in your dataset\n",
    "- `__getitem__`: which receives an index, should return the data at the given index (which is a tuple here, containing image and the corresponding label) "
   ]
  },
  {
   "cell_type": "code",
   "execution_count": null,
   "metadata": {
    "id": "RixD6z30qt1o"
   },
   "outputs": [],
   "source": [
    "class MNISTDataset(Dataset):\n",
    "    def __init__(self, root_dir, transform):\n",
    "        # Place your code here (4 Points)\n",
    "        ## Hint: Use os.listdir(some_path) to get the list of files\n",
    "        pass\n",
    "\n",
    "    def __len__(self):\n",
    "        # Place your code here (1 Points)\n",
    "        pass\n",
    "\n",
    "    def __getitem__(self, idx):\n",
    "        # Place your code here (3 Points)\n",
    "        ## Return a tuple (image, label)\n",
    "        pass"
   ]
  },
  {
   "cell_type": "markdown",
   "metadata": {
    "id": "ObSdu-MwuYJK"
   },
   "source": [
    "After you defined your dataset, let's use it."
   ]
  },
  {
   "cell_type": "code",
   "execution_count": null,
   "metadata": {
    "id": "YctASmSEuiqG"
   },
   "outputs": [],
   "source": [
    "my_dataset = MNISTDataset(root_dir=dataset_path, transform=RandomColorSwap())\n",
    "len(my_dataset)"
   ]
  },
  {
   "cell_type": "markdown",
   "metadata": {
    "id": "VMTt5b4wvWik"
   },
   "source": [
    "Visualize 10 samples (randomely) from your dataset with their labels"
   ]
  },
  {
   "cell_type": "code",
   "execution_count": null,
   "metadata": {
    "id": "nWMmwUvjudSr"
   },
   "outputs": [],
   "source": [
    "# Place your code here (2 Points)"
   ]
  },
  {
   "cell_type": "markdown",
   "metadata": {
    "id": "qKWNRCGuwDpf"
   },
   "source": [
    "## MNIST Classification"
   ]
  },
  {
   "cell_type": "markdown",
   "metadata": {
    "id": "DQ8QfxCnzESu"
   },
   "source": [
    "### Model\n",
    "Define your model (Based on what you have learned in the workshop). I highly encourage you to try different models with different layers in order to achieve a better accuracy\n",
    "\n",
    "**Notice:** You cannot use convolution layers in your model "
   ]
  },
  {
   "cell_type": "code",
   "execution_count": null,
   "metadata": {
    "id": "2rpkLTDazDgl"
   },
   "outputs": [],
   "source": [
    "# Place your code here (5 points)\n",
    "class DigitRecognizer(nn.Module):\n",
    "    pass"
   ]
  },
  {
   "cell_type": "code",
   "execution_count": null,
   "metadata": {
    "id": "rVXXfXBvzwY3"
   },
   "outputs": [],
   "source": [
    "model = DigitRecognizer().to(device)\n",
    "model"
   ]
  },
  {
   "cell_type": "markdown",
   "metadata": {
    "id": "29ekb8vBz06M"
   },
   "source": [
    "### Dataset and Dataloader"
   ]
  },
  {
   "cell_type": "markdown",
   "metadata": {
    "id": "UIJbRn7C0MXI"
   },
   "source": [
    "Prepare datasets and dataloader for train/test. We use MNIST dataset that is already implemented inside `torchvision.datasets`.\n",
    "\n",
    " You need to split the `mnist_dataset` into `train_dataset` and `val_dataset`. \n",
    " \n",
    " You can also define more transformations that you think it would help the training process **(Optional)**."
   ]
  },
  {
   "cell_type": "code",
   "execution_count": null,
   "metadata": {
    "id": "OGASwi3AzzZV"
   },
   "outputs": [],
   "source": [
    "transform_compose = transforms.Compose([\n",
    "    transforms.ToTensor(),\n",
    "    # Place your code here\n",
    "])\n",
    "\n",
    "mnist_dataset = datasets.MNIST(root='dataset', train=True, download=True, transform=transform_compose)\n",
    "# Place your code here (1 points)\n",
    "## Notice: Split mnist_dataset into train_dataset and val_dataset\n",
    "\n",
    "# End of block for your code placement\n",
    "test_dataset = datasets.MNIST(root='dataset', train=False, download=True, transform=transforms.ToTensor())\n",
    "\n",
    "train_loader = DataLoader(dataset=train_dataset, batch_size=32, shuffle=True)\n",
    "val_loader = DataLoader(dataset=val_dataset, batch_size=32, shuffle=False)\n",
    "test_loader = DataLoader(dataset=test_dataset, batch_size=32, shuffle=False)"
   ]
  },
  {
   "cell_type": "markdown",
   "metadata": {
    "id": "8_knAsJK1eoL"
   },
   "source": [
    "### Criterion and Optimizer"
   ]
  },
  {
   "cell_type": "markdown",
   "metadata": {
    "id": "hCwVvh7v1mPy"
   },
   "source": [
    "you have to tune the `learning_rate` yourself (Based on your training process)"
   ]
  },
  {
   "cell_type": "code",
   "execution_count": null,
   "metadata": {
    "id": "3AiRenXy1jJO"
   },
   "outputs": [],
   "source": [
    "criterion = nn.CrossEntropyLoss()\n",
    "# learning_rate=\n",
    "optimizer = torch.optim.Adam(model.parameters(), lr=learning_rate)"
   ]
  },
  {
   "cell_type": "markdown",
   "metadata": {
    "id": "4c9K1Hlf12UF"
   },
   "source": [
    "### Train your model"
   ]
  },
  {
   "cell_type": "markdown",
   "metadata": {
    "id": "urJ44vOA2Exl"
   },
   "source": [
    "Write your training/validation loop in the following cell for an arbitrary number of epochs (until convergence is detected). You also need to store train/validation loss at each epoch in order to visualize them the after training is done."
   ]
  },
  {
   "cell_type": "code",
   "execution_count": null,
   "metadata": {
    "id": "lyCVVo742PPQ"
   },
   "outputs": [],
   "source": [
    "# num_epochs=\n",
    "\n",
    "train_loss_arr, val_loss_arr = [], []\n",
    "for epoch in range(num_epochs):\n",
    "    train_loss, val_loss = 0, 0\n",
    "\n",
    "    model.train()\n",
    "    # Place your code here (5 points)\n",
    "    ## Hint: Loop throught train_loader, get images with their labels and train the model\n",
    "    ## Hint 2: To update train_loss inside the loop use \"train_loss += batch_loss * batch_size\"\"\n",
    "  \n",
    "  \n",
    "    model.eval()\n",
    "    # Place your code here (4 points)\n",
    "    ## Hint: Loop throught val_loader, get images with their labels and evaluate the model\n",
    "    ## Hint 2: To update val_loss inside the loop use \"val_loss += batch_loss * batch_size\"\"\n",
    "\n",
    "\n",
    "    train_loss /= len(train_loader.dataset)\n",
    "    val_loss /= len(val_loader.dataset)\n",
    "    train_loss_arr.append(train_loss)\n",
    "    val_loss_arr.append(val_loss)\n",
    "\n",
    "    print(f\"[Epoch {epoch}]\\t\"\n",
    "        f\"Train Loss: {train_loss:.4f}\\t\"\n",
    "        f\"Validation Loss: {val_loss:.4f}\")"
   ]
  },
  {
   "cell_type": "markdown",
   "metadata": {
    "id": "oe3KbjZG2mNd"
   },
   "source": [
    "#### Plot train/validation loss"
   ]
  },
  {
   "cell_type": "code",
   "execution_count": null,
   "metadata": {
    "id": "nNwH8WMy2qmr"
   },
   "outputs": [],
   "source": [
    "# Place your code here (1 points)"
   ]
  },
  {
   "cell_type": "markdown",
   "metadata": {
    "id": "AKsD6NhU2w71"
   },
   "source": [
    "### Evaluation"
   ]
  },
  {
   "cell_type": "markdown",
   "metadata": {
    "id": "oZcXJuWX255T"
   },
   "source": [
    "Evaluate your model on test set. you have to report both loss and accuracy.\n",
    "\n",
    "In order to get the full score of this section, you need to achieve an accuracy above $95\\%$ and to get the extra points, your accuracy should be above $98\\%$ \n",
    "\n",
    "**Notice:** You should use test set only for evaluation of your model."
   ]
  },
  {
   "cell_type": "code",
   "execution_count": null,
   "metadata": {
    "id": "bl4bsjhg2xMo"
   },
   "outputs": [],
   "source": [
    "# Place your code here (4 points + 5 Extra)"
   ]
  },
  {
   "cell_type": "markdown",
   "metadata": {
    "id": "w4eZsFnV3rTi"
   },
   "source": [
    "### Visualization of wrong prediction"
   ]
  },
  {
   "cell_type": "markdown",
   "metadata": {
    "id": "y9jvB_lZ3uqx"
   },
   "source": [
    "Visualize $8$ samples (along with original label and model's prediction) from test set which are labeled wrong by your model"
   ]
  },
  {
   "cell_type": "code",
   "execution_count": null,
   "metadata": {
    "id": "8rLlhJvE4IjZ"
   },
   "outputs": [],
   "source": [
    "# Place your code here (5 points)"
   ]
  }
 ],
 "metadata": {
  "colab": {
   "collapsed_sections": [],
   "name": "AI2021_P4_Problem.ipynb",
   "provenance": []
  },
  "interpreter": {
   "hash": "f336af7d54ba0f0c1daaf2256eb85f31e983e88153daf7a27ef3ea6c724faba4"
  },
  "kernelspec": {
   "display_name": "Python 3 (ipykernel)",
   "language": "python",
   "name": "python3"
  },
  "language_info": {
   "codemirror_mode": {
    "name": "ipython",
    "version": 3
   },
   "file_extension": ".py",
   "mimetype": "text/x-python",
   "name": "python",
   "nbconvert_exporter": "python",
   "pygments_lexer": "ipython3",
   "version": "3.8.10"
  }
 },
 "nbformat": 4,
 "nbformat_minor": 1
}
